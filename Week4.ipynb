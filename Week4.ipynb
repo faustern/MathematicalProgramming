{
 "cells": [
  {
   "cell_type": "markdown",
   "id": "8157aa10-0393-4cf9-aba6-381309bf333f",
   "metadata": {},
   "source": [
    "## While Loop"
   ]
  },
  {
   "cell_type": "code",
   "execution_count": 2,
   "id": "e201d302-658b-4175-a3b0-639a09bdde03",
   "metadata": {},
   "outputs": [
    {
     "name": "stdout",
     "output_type": "stream",
     "text": [
      "True\n",
      "This is inside the loop\n",
      "False\n"
     ]
    }
   ],
   "source": [
    "s = True\n",
    "while s:\n",
    "    print(s)\n",
    "    print(\"This is inside the loop\")\n",
    "    s = False\n",
    "    print(s)"
   ]
  },
  {
   "cell_type": "code",
   "execution_count": 4,
   "id": "088d2d66-5163-4c5d-a2a3-af6ea491803c",
   "metadata": {},
   "outputs": [
    {
     "name": "stdout",
     "output_type": "stream",
     "text": [
      "10 while\n",
      "11 while\n",
      "12 while\n",
      "13 while\n",
      "14 while\n"
     ]
    }
   ],
   "source": [
    "i = 10\n",
    "while i < 15:\n",
    "    print(f'{i} while')\n",
    "    i = i + 1"
   ]
  },
  {
   "cell_type": "code",
   "execution_count": 6,
   "id": "1b864369-f2fe-47c9-89a7-78644beb0d52",
   "metadata": {},
   "outputs": [
    {
     "name": "stdout",
     "output_type": "stream",
     "text": [
      "10 while\n",
      "11 while\n",
      "12 while\n",
      "13 while\n",
      "14 while\n"
     ]
    }
   ],
   "source": [
    "# same code above\n",
    "i = 10\n",
    "while i < 15:\n",
    "    print(f'{i} while') # this is inside the while-loops\n",
    "    i += 1 # adding one to i"
   ]
  },
  {
   "cell_type": "markdown",
   "id": "9360e7e7-4541-450d-9b92-1f75f0f4ddf6",
   "metadata": {},
   "source": [
    "n = 123, while this number is not divisible by 7, add the digit 1 to the right handside of n"
   ]
  },
  {
   "cell_type": "code",
   "execution_count": 7,
   "id": "4d585fe2-5a8d-40a4-887c-409b84174312",
   "metadata": {},
   "outputs": [
    {
     "data": {
      "text/plain": [
       "4"
      ]
     },
     "execution_count": 7,
     "metadata": {},
     "output_type": "execute_result"
    }
   ],
   "source": [
    "123 % 7"
   ]
  },
  {
   "cell_type": "code",
   "execution_count": 8,
   "id": "aa3361f3-753d-4a4f-9436-40e54e1d3bac",
   "metadata": {},
   "outputs": [
    {
     "data": {
      "text/plain": [
       "6"
      ]
     },
     "execution_count": 8,
     "metadata": {},
     "output_type": "execute_result"
    }
   ],
   "source": [
    "1231 % 7"
   ]
  },
  {
   "cell_type": "code",
   "execution_count": 9,
   "id": "ca7bafab-8dc7-4f5f-9bcc-e4a5c1b8ad8b",
   "metadata": {},
   "outputs": [
    {
     "data": {
      "text/plain": [
       "2"
      ]
     },
     "execution_count": 9,
     "metadata": {},
     "output_type": "execute_result"
    }
   ],
   "source": [
    "123111 % 7"
   ]
  },
  {
   "cell_type": "code",
   "execution_count": 10,
   "id": "7ba12b27-96f6-4d4c-9edb-7d855e8b3eb0",
   "metadata": {},
   "outputs": [
    {
     "data": {
      "text/plain": [
       "0"
      ]
     },
     "execution_count": 10,
     "metadata": {},
     "output_type": "execute_result"
    }
   ],
   "source": [
    "1231111 % 7"
   ]
  },
  {
   "cell_type": "code",
   "execution_count": 12,
   "id": "a6afeb60-cd08-4cca-977e-926a5da11bf9",
   "metadata": {},
   "outputs": [
    {
     "data": {
      "text/plain": [
       "1231"
      ]
     },
     "execution_count": 12,
     "metadata": {},
     "output_type": "execute_result"
    }
   ],
   "source": [
    "n=123\n",
    "\n",
    "n*10+1"
   ]
  },
  {
   "cell_type": "code",
   "execution_count": 11,
   "id": "6ac66524-26fc-4cbc-9494-4ea9b81ec11a",
   "metadata": {},
   "outputs": [
    {
     "data": {
      "text/plain": [
       "1231"
      ]
     },
     "execution_count": 11,
     "metadata": {},
     "output_type": "execute_result"
    }
   ],
   "source": [
    "123 * 10 + 1"
   ]
  },
  {
   "cell_type": "code",
   "execution_count": 16,
   "id": "72a3363f-8615-41d1-ab5d-f659c3b149f2",
   "metadata": {},
   "outputs": [
    {
     "name": "stdout",
     "output_type": "stream",
     "text": [
      "1231111\n"
     ]
    }
   ],
   "source": [
    "n = 123\n",
    "while n % 7 !=0: # checking if a number n is divisible by 7\n",
    "    n = n*10+1\n",
    "else:\n",
    "    print(n)"
   ]
  },
  {
   "cell_type": "code",
   "execution_count": 17,
   "id": "d8a2eb81-fd25-4deb-88ba-8cd9e50e995a",
   "metadata": {},
   "outputs": [
    {
     "name": "stdout",
     "output_type": "stream",
     "text": [
      "1231111\n"
     ]
    }
   ],
   "source": [
    "#same code\n",
    "n = 123\n",
    "while n % 7 !=0: # checking if a number n is divisible by 7\n",
    "    n *= 10\n",
    "    n += 1 #the combination of these two lines is n = 10n +1\n",
    "else:\n",
    "    print(n)"
   ]
  },
  {
   "cell_type": "markdown",
   "id": "9a4622a4-388d-4e4a-ac1d-571237c52fdd",
   "metadata": {},
   "source": [
    "Question: n #= b means n = n # b... is there a short hand for like n#=b@c meaning n = (n#b)@c"
   ]
  },
  {
   "cell_type": "markdown",
   "id": "97c323d2-fbff-445b-bae3-8eaedde1f947",
   "metadata": {},
   "source": [
    "let n = 1423354 while this number is not divisible by 7, drop a digit from the right handside"
   ]
  },
  {
   "cell_type": "code",
   "execution_count": 19,
   "id": "ca1c9418-1651-4049-a6b7-5f33ad58c7de",
   "metadata": {},
   "outputs": [
    {
     "data": {
      "text/plain": [
       "2"
      ]
     },
     "execution_count": 19,
     "metadata": {},
     "output_type": "execute_result"
    }
   ],
   "source": [
    "1423354 % 7"
   ]
  },
  {
   "cell_type": "code",
   "execution_count": 20,
   "id": "e9cd8839-c17b-4545-aa77-3bf58d9f5ac9",
   "metadata": {},
   "outputs": [
    {
     "data": {
      "text/plain": [
       "4"
      ]
     },
     "execution_count": 20,
     "metadata": {},
     "output_type": "execute_result"
    }
   ],
   "source": [
    "142335 % 7"
   ]
  },
  {
   "cell_type": "code",
   "execution_count": 21,
   "id": "4cad0b34-770f-494b-bf76-3217ff1dccca",
   "metadata": {},
   "outputs": [
    {
     "data": {
      "text/plain": [
       "2"
      ]
     },
     "execution_count": 21,
     "metadata": {},
     "output_type": "execute_result"
    }
   ],
   "source": [
    "14233 % 7"
   ]
  },
  {
   "cell_type": "code",
   "execution_count": 22,
   "id": "887c570f-8e21-42cb-8b47-3841dc0a18c9",
   "metadata": {},
   "outputs": [
    {
     "data": {
      "text/plain": [
       "2"
      ]
     },
     "execution_count": 22,
     "metadata": {},
     "output_type": "execute_result"
    }
   ],
   "source": [
    "1423 % 7"
   ]
  },
  {
   "cell_type": "code",
   "execution_count": 23,
   "id": "6708d88b-ec32-49b6-818a-a57295778aba",
   "metadata": {},
   "outputs": [
    {
     "data": {
      "text/plain": [
       "2"
      ]
     },
     "execution_count": 23,
     "metadata": {},
     "output_type": "execute_result"
    }
   ],
   "source": [
    "142 % 7"
   ]
  },
  {
   "cell_type": "code",
   "execution_count": 24,
   "id": "ab3cea7e-fc3d-42e4-9dcc-a7f77e2332e1",
   "metadata": {},
   "outputs": [
    {
     "data": {
      "text/plain": [
       "0"
      ]
     },
     "execution_count": 24,
     "metadata": {},
     "output_type": "execute_result"
    }
   ],
   "source": [
    "14 % 7"
   ]
  },
  {
   "cell_type": "markdown",
   "id": "ab6c8b9e-ab43-4d22-ac4f-dc9e0812217f",
   "metadata": {},
   "source": [
    "Does anyone know a quick way to say whether a number is divisible by 7?"
   ]
  },
  {
   "cell_type": "code",
   "execution_count": 26,
   "id": "55e13428-eeca-4f59-84a3-956a4329f2df",
   "metadata": {},
   "outputs": [
    {
     "data": {
      "text/plain": [
       "14"
      ]
     },
     "execution_count": 26,
     "metadata": {},
     "output_type": "execute_result"
    }
   ],
   "source": [
    "143 // 10"
   ]
  },
  {
   "cell_type": "code",
   "execution_count": 30,
   "id": "d17b4cfd-8472-441c-9e93-ca1931f221d9",
   "metadata": {},
   "outputs": [
    {
     "name": "stdout",
     "output_type": "stream",
     "text": [
      "14\n"
     ]
    }
   ],
   "source": [
    "n = 1423354\n",
    "while n % 7 !=0:\n",
    "    n = n // 10\n",
    "else:\n",
    "    print(n)"
   ]
  },
  {
   "cell_type": "markdown",
   "id": "702f7515-69a4-4d21-ab94-424078be2789",
   "metadata": {},
   "source": [
    "Consider a number $a_0a_1a_2 \\cdots a_n$ and get the sum of all digits i.e., $$a_0 + a_1 + a_2 \\cdots + a_n$$"
   ]
  },
  {
   "cell_type": "markdown",
   "id": "9e53fd9c-c8f4-47d3-8ff2-704fc4f8893a",
   "metadata": {},
   "source": [
    "Notice that $a_0a_1a_2 \\cdots a_n//10$ returns $a_0a_1a_2 \\cdots a_{n-1}$ and $a_0a_1a_2 \\cdots a_n$%10 return $a_n$"
   ]
  },
  {
   "cell_type": "code",
   "execution_count": 6,
   "id": "630bf785-d8cd-4b42-99e8-c9b5aa43bf71",
   "metadata": {},
   "outputs": [
    {
     "name": "stdout",
     "output_type": "stream",
     "text": [
      "22\n"
     ]
    }
   ],
   "source": [
    "n = 1423354\n",
    "s = 0\n",
    "while n !=0:\n",
    "    s = s + (n % 10)\n",
    "    n = n // 10\n",
    "print(s)"
   ]
  },
  {
   "cell_type": "code",
   "execution_count": 4,
   "id": "d990f1be-37a2-4831-89c8-0cfd51dd322c",
   "metadata": {},
   "outputs": [
    {
     "name": "stdout",
     "output_type": "stream",
     "text": [
      "The sum of the digits is: 22\n"
     ]
    }
   ],
   "source": [
    "def sum_of_digits(n):\n",
    "    total = 0\n",
    "    while n > 0:\n",
    "        total += n % 10  # Add the last digit to the total\n",
    "        n //= 10  # Remove the last digit from n\n",
    "    return total\n",
    "\n",
    "n = 1423354\n",
    "result = sum_of_digits(n)\n",
    "print(\"The sum of the digits is:\", result)"
   ]
  },
  {
   "cell_type": "code",
   "execution_count": 7,
   "id": "c66cf1f5-a6d1-487e-9e04-20b9b8548d13",
   "metadata": {},
   "outputs": [
    {
     "name": "stdin",
     "output_type": "stream",
     "text": [
      "give number:\n",
      " 4567890\n"
     ]
    },
    {
     "name": "stdout",
     "output_type": "stream",
     "text": [
      "39\n"
     ]
    }
   ],
   "source": [
    "n=input(\"give number:\\n\")\n",
    "\n",
    "sum_of_n=0\n",
    "i=0\n",
    "while i != len(n):\n",
    "    sum_of_n=int(n[i])+sum_of_n\n",
    "    i+=1\n",
    "print(sum_of_n)"
   ]
  },
  {
   "cell_type": "code",
   "execution_count": 11,
   "id": "95d4570a-3a8e-4011-b420-966be25b0bab",
   "metadata": {},
   "outputs": [
    {
     "name": "stdout",
     "output_type": "stream",
     "text": [
      "*** Introductory Examples for the NLTK Book ***\n",
      "Loading text1, ..., text9 and sent1, ..., sent9\n",
      "Type the name of the text or sentence to view it.\n",
      "Type: 'texts()' or 'sents()' to list the materials.\n",
      "text1: Moby Dick by Herman Melville 1851\n",
      "text2: Sense and Sensibility by Jane Austen 1811\n",
      "text3: The Book of Genesis\n",
      "text4: Inaugural Address Corpus\n",
      "text5: Chat Corpus\n",
      "text6: Monty Python and the Holy Grail\n",
      "text7: Wall Street Journal\n",
      "text8: Personals Corpus\n",
      "text9: The Man Who Was Thursday by G . K . Chesterton 1908\n"
     ]
    }
   ],
   "source": [
    "import nltk\n",
    "from nltk.book import *"
   ]
  },
  {
   "cell_type": "code",
   "execution_count": 12,
   "id": "de8d0102-7461-42ef-ac6e-d28f9a6bbbc0",
   "metadata": {},
   "outputs": [
    {
     "data": {
      "text/plain": [
       "<Text: Sense and Sensibility by Jane Austen 1811>"
      ]
     },
     "execution_count": 12,
     "metadata": {},
     "output_type": "execute_result"
    }
   ],
   "source": [
    "text2"
   ]
  },
  {
   "cell_type": "code",
   "execution_count": 13,
   "id": "74a15c0f-9638-48c8-a182-54a31b161f07",
   "metadata": {},
   "outputs": [
    {
     "data": {
      "text/plain": [
       "141576"
      ]
     },
     "execution_count": 13,
     "metadata": {},
     "output_type": "execute_result"
    }
   ],
   "source": [
    "len(text2)"
   ]
  },
  {
   "cell_type": "code",
   "execution_count": 14,
   "id": "550c77ce-9945-4a2d-a524-f42dee1eddcb",
   "metadata": {},
   "outputs": [
    {
     "name": "stdout",
     "output_type": "stream",
     "text": [
      "['it', 'to', 'him', 'on', 'such', 'terms', 'as', 'destroyed', 'half', 'the', 'value', 'of', 'the', 'bequest', '.', 'Mr', '.', 'Dashwood', 'had', 'wished', 'for', 'it', 'more', 'for', 'the', 'sake', 'of', 'his', 'wife', 'and', 'daughters', 'than', 'for', 'himself', 'or'] "
     ]
    }
   ],
   "source": [
    "print(text2[465:500], end= ' ')"
   ]
  },
  {
   "cell_type": "code",
   "execution_count": 16,
   "id": "b3189922-8aef-460a-bc37-9a3c6afd3efd",
   "metadata": {},
   "outputs": [
    {
     "name": "stdout",
     "output_type": "stream",
     "text": [
      "['She', 'was', 'full', 'of', 'jokes', 'and', 'laughter', ',', 'and', 'before', 'dinner', 'was', 'over', 'had', 'said', 'many', 'witty', 'things', 'on', 'the']\n"
     ]
    }
   ],
   "source": [
    "i = 0\n",
    "while text2[i] != 'dinner':\n",
    "    i = i+1\n",
    "print(text2[i-10 : i+10])"
   ]
  },
  {
   "cell_type": "markdown",
   "id": "19713a49-e068-4859-bab8-e47a126f6787",
   "metadata": {},
   "source": [
    "Find all the occurance of the word dinner and print the sentences around the word dinner..."
   ]
  },
  {
   "cell_type": "code",
   "execution_count": 17,
   "id": "dfea5f6f-c72d-4ccd-9e91-24100b2163ef",
   "metadata": {},
   "outputs": [
    {
     "name": "stdout",
     "output_type": "stream",
     "text": [
      "Context around 'dinner': She was full of jokes and laughter , and before dinner was over had said many witty things on the\n",
      "Context around 'dinner': only by the entrance of her four noisy children after dinner , who pulled her about , tore her clothes\n",
      "Context around 'dinner': I will ride over tomorrow , and ask him to dinner on Thursday .\" \" You know him then ,\"\n",
      "Context around 'dinner': day long . Some more of the Careys came to dinner , and they had the pleasure of sitting down\n",
      "Context around 'dinner': and happiness . \" Shall we see you tomorrow to dinner ?\" said Mrs . Dashwood , when he was\n",
      "Context around 'dinner': justice of all . They saw nothing of Marianne till dinner time , when she entered the room and took\n",
      "Context around 'dinner': you at present , Edward ?\" said she , when dinner was over and they had drawn round the fire\n",
      "Context around 'dinner': see how Mr . and Mrs . Palmer ate their dinner , and no expectation of pleasure from them in\n",
      "Context around 'dinner': her own expectations , that when she joined them at dinner only two hours after she had first suffered the\n",
      "Context around 'dinner': a great school in town to some effect . As dinner was not to be ready in less than two\n",
      "Context around 'dinner': the evening drew on . She could scarcely eat any dinner , and when they afterwards returned to the drawing\n",
      "Context around 'dinner': I have been as busy as a bee ever since dinner ! But pray , Colonel , how came you\n",
      "Context around 'dinner': believing it hardly possible that she could sit out the dinner , said no more ; and adjusting her dress\n",
      "Context around 'dinner': for the world . You saw I did not all dinner time . No more would Sir John , nor\n",
      "Context around 'dinner': giving anything , they determined to give them -- a dinner ; and soon after their acquaintance began , invited\n",
      "Context around 'dinner': about Dr . Davies to be perfectly happy . The dinner was a grand one , the servants were numerous\n",
      "Context around 'dinner': When the ladies withdrew to the drawing - room after dinner , this poverty was particularly evident , for the\n",
      "Context around 'dinner': the sacrifice of the best place by the fire after dinner , which their arrival occasioned . But this conciliation\n",
      "Context around 'dinner': prevented by a settled rain from going out again after dinner . She had depended on a twilight walk to\n",
      "Context around 'dinner': two gentlemen arrived the next day to a very late dinner , affording a pleasant enlargement of the party ,\n",
      "Context around 'dinner': she had been kept by her fears , and of dinner by their sudden reverse , from eating much ;--\n",
      "Context around 'dinner': passed away without the atonement of a smile . After dinner she would try her piano - forte . She\n",
      "Context around 'dinner': in rising than six , and from that time till dinner I shall divide every moment between music and reading\n",
      "Context around 'dinner': , she had never been obliged to go without her dinner before . When the dessert and the wine were\n"
     ]
    }
   ],
   "source": [
    "for i in range(len(text2)):\n",
    "    if text2[i] == 'dinner':\n",
    "        start = max(i - 10, 0)  # Get up to 10 words before \"dinner\"\n",
    "        end = min(i + 10, len(text2))  # Get up to 10 words after \"dinner\"\n",
    "        print(\"Context around 'dinner':\", ' '.join(text2[start:end]))"
   ]
  },
  {
   "cell_type": "code",
   "execution_count": 20,
   "id": "af3bbc88-f187-46f4-8dbe-0d3b8a188d7e",
   "metadata": {},
   "outputs": [
    {
     "name": "stdout",
     "output_type": "stream",
     "text": [
      "['She', 'was', 'full', 'of', 'jokes', 'and', 'laughter', ',', 'and', 'before', 'dinner', 'was', 'over', 'had', 'said', 'many', 'witty', 'things', 'on', 'the'] \n",
      "\n",
      "['only', 'by', 'the', 'entrance', 'of', 'her', 'four', 'noisy', 'children', 'after', 'dinner', ',', 'who', 'pulled', 'her', 'about', ',', 'tore', 'her', 'clothes'] \n",
      "\n",
      "['I', 'will', 'ride', 'over', 'tomorrow', ',', 'and', 'ask', 'him', 'to', 'dinner', 'on', 'Thursday', '.\"', '\"', 'You', 'know', 'him', 'then', ',\"'] \n",
      "\n",
      "['day', 'long', '.', 'Some', 'more', 'of', 'the', 'Careys', 'came', 'to', 'dinner', ',', 'and', 'they', 'had', 'the', 'pleasure', 'of', 'sitting', 'down'] \n",
      "\n",
      "['and', 'happiness', '.', '\"', 'Shall', 'we', 'see', 'you', 'tomorrow', 'to', 'dinner', '?\"', 'said', 'Mrs', '.', 'Dashwood', ',', 'when', 'he', 'was'] \n",
      "\n",
      "['justice', 'of', 'all', '.', 'They', 'saw', 'nothing', 'of', 'Marianne', 'till', 'dinner', 'time', ',', 'when', 'she', 'entered', 'the', 'room', 'and', 'took'] \n",
      "\n",
      "['you', 'at', 'present', ',', 'Edward', '?\"', 'said', 'she', ',', 'when', 'dinner', 'was', 'over', 'and', 'they', 'had', 'drawn', 'round', 'the', 'fire'] \n",
      "\n",
      "['see', 'how', 'Mr', '.', 'and', 'Mrs', '.', 'Palmer', 'ate', 'their', 'dinner', ',', 'and', 'no', 'expectation', 'of', 'pleasure', 'from', 'them', 'in'] \n",
      "\n",
      "['her', 'own', 'expectations', ',', 'that', 'when', 'she', 'joined', 'them', 'at', 'dinner', 'only', 'two', 'hours', 'after', 'she', 'had', 'first', 'suffered', 'the'] \n",
      "\n",
      "['a', 'great', 'school', 'in', 'town', 'to', 'some', 'effect', '.', 'As', 'dinner', 'was', 'not', 'to', 'be', 'ready', 'in', 'less', 'than', 'two'] \n",
      "\n",
      "['the', 'evening', 'drew', 'on', '.', 'She', 'could', 'scarcely', 'eat', 'any', 'dinner', ',', 'and', 'when', 'they', 'afterwards', 'returned', 'to', 'the', 'drawing'] \n",
      "\n",
      "['I', 'have', 'been', 'as', 'busy', 'as', 'a', 'bee', 'ever', 'since', 'dinner', '!', 'But', 'pray', ',', 'Colonel', ',', 'how', 'came', 'you'] \n",
      "\n",
      "['believing', 'it', 'hardly', 'possible', 'that', 'she', 'could', 'sit', 'out', 'the', 'dinner', ',', 'said', 'no', 'more', ';', 'and', 'adjusting', 'her', 'dress'] \n",
      "\n",
      "['for', 'the', 'world', '.', 'You', 'saw', 'I', 'did', 'not', 'all', 'dinner', 'time', '.', 'No', 'more', 'would', 'Sir', 'John', ',', 'nor'] \n",
      "\n",
      "['giving', 'anything', ',', 'they', 'determined', 'to', 'give', 'them', '--', 'a', 'dinner', ';', 'and', 'soon', 'after', 'their', 'acquaintance', 'began', ',', 'invited'] \n",
      "\n",
      "['about', 'Dr', '.', 'Davies', 'to', 'be', 'perfectly', 'happy', '.', 'The', 'dinner', 'was', 'a', 'grand', 'one', ',', 'the', 'servants', 'were', 'numerous'] \n",
      "\n",
      "['When', 'the', 'ladies', 'withdrew', 'to', 'the', 'drawing', '-', 'room', 'after', 'dinner', ',', 'this', 'poverty', 'was', 'particularly', 'evident', ',', 'for', 'the'] \n",
      "\n",
      "['the', 'sacrifice', 'of', 'the', 'best', 'place', 'by', 'the', 'fire', 'after', 'dinner', ',', 'which', 'their', 'arrival', 'occasioned', '.', 'But', 'this', 'conciliation'] \n",
      "\n",
      "['prevented', 'by', 'a', 'settled', 'rain', 'from', 'going', 'out', 'again', 'after', 'dinner', '.', 'She', 'had', 'depended', 'on', 'a', 'twilight', 'walk', 'to'] \n",
      "\n",
      "['two', 'gentlemen', 'arrived', 'the', 'next', 'day', 'to', 'a', 'very', 'late', 'dinner', ',', 'affording', 'a', 'pleasant', 'enlargement', 'of', 'the', 'party', ','] \n",
      "\n",
      "['she', 'had', 'been', 'kept', 'by', 'her', 'fears', ',', 'and', 'of', 'dinner', 'by', 'their', 'sudden', 'reverse', ',', 'from', 'eating', 'much', ';--'] \n",
      "\n",
      "['passed', 'away', 'without', 'the', 'atonement', 'of', 'a', 'smile', '.', 'After', 'dinner', 'she', 'would', 'try', 'her', 'piano', '-', 'forte', '.', 'She'] \n",
      "\n",
      "['in', 'rising', 'than', 'six', ',', 'and', 'from', 'that', 'time', 'till', 'dinner', 'I', 'shall', 'divide', 'every', 'moment', 'between', 'music', 'and', 'reading'] \n",
      "\n",
      "[',', 'she', 'had', 'never', 'been', 'obliged', 'to', 'go', 'without', 'her', 'dinner', 'before', '.', 'When', 'the', 'dessert', 'and', 'the', 'wine', 'were'] \n",
      "\n"
     ]
    }
   ],
   "source": [
    "i = 0\n",
    "\n",
    "while text2[i] != text2[-1]:\n",
    "    if text2[i] == 'dinner':\n",
    "       print(text2[i-10:i+10], '\\n')\n",
    "    i+=1"
   ]
  },
  {
   "cell_type": "markdown",
   "id": "f9afe5b5-4cd8-42fb-83de-99786db1f92b",
   "metadata": {},
   "source": [
    "## Functions in python"
   ]
  },
  {
   "cell_type": "code",
   "execution_count": 22,
   "id": "a369274a-c7d6-4b17-a1da-928be615a867",
   "metadata": {},
   "outputs": [],
   "source": [
    "def f():\n",
    "    print('Western Sydney University')"
   ]
  },
  {
   "cell_type": "code",
   "execution_count": 23,
   "id": "f961db97-1996-46f6-a0ea-91a9cdea1084",
   "metadata": {},
   "outputs": [
    {
     "name": "stdout",
     "output_type": "stream",
     "text": [
      "Western Sydney University\n"
     ]
    }
   ],
   "source": [
    "f()"
   ]
  },
  {
   "cell_type": "code",
   "execution_count": 24,
   "id": "4f5288ef-329b-47d9-9d3f-e609b4251502",
   "metadata": {},
   "outputs": [
    {
     "name": "stdout",
     "output_type": "stream",
     "text": [
      "Western Sydney University\n",
      "Western Sydney University\n",
      "Western Sydney University\n",
      "Western Sydney University\n",
      "Western Sydney University\n"
     ]
    }
   ],
   "source": [
    "for i in range(5):\n",
    "    f()"
   ]
  },
  {
   "cell_type": "code",
   "execution_count": 26,
   "id": "c421f38f-49e2-434c-b90a-26bace9c50c3",
   "metadata": {},
   "outputs": [],
   "source": [
    "def g(x):\n",
    "    print(f'Western Sydney {x}')"
   ]
  },
  {
   "cell_type": "code",
   "execution_count": 28,
   "id": "b67aa298-5e8f-4737-b004-73c22f0b1a98",
   "metadata": {},
   "outputs": [
    {
     "name": "stdout",
     "output_type": "stream",
     "text": [
      "Western Sydney Uni\n"
     ]
    }
   ],
   "source": [
    "g('Uni')"
   ]
  },
  {
   "cell_type": "code",
   "execution_count": 29,
   "id": "870dcea5-dc5a-44f3-b779-1f0bf0e146c2",
   "metadata": {},
   "outputs": [
    {
     "name": "stdout",
     "output_type": "stream",
     "text": [
      "Western Sydney School\n",
      "Western Sydney Uni\n",
      "Western Sydney Centre\n",
      "Western Sydney Whatever\n"
     ]
    }
   ],
   "source": [
    "for i in ['School', 'Uni', 'Centre', 'Whatever']:\n",
    "    g(i)"
   ]
  },
  {
   "cell_type": "code",
   "execution_count": 31,
   "id": "b05b48a1-4e7c-4020-a563-8471177ad056",
   "metadata": {},
   "outputs": [],
   "source": [
    "def f(x):\n",
    "    return 2 * x"
   ]
  },
  {
   "cell_type": "code",
   "execution_count": 32,
   "id": "e987d994-2e75-4afc-b7a1-a0179612e983",
   "metadata": {},
   "outputs": [
    {
     "data": {
      "text/plain": [
       "24"
      ]
     },
     "execution_count": 32,
     "metadata": {},
     "output_type": "execute_result"
    }
   ],
   "source": [
    "f(12)"
   ]
  },
  {
   "cell_type": "code",
   "execution_count": 34,
   "id": "c455835f-5966-4749-9312-20ca94bd7590",
   "metadata": {},
   "outputs": [
    {
     "data": {
      "text/plain": [
       "47.0"
      ]
     },
     "execution_count": 34,
     "metadata": {},
     "output_type": "execute_result"
    }
   ],
   "source": [
    "f(23.5)"
   ]
  },
  {
   "cell_type": "code",
   "execution_count": 35,
   "id": "91dce93a-a394-4b72-a49c-8673de4c9cf6",
   "metadata": {},
   "outputs": [
    {
     "data": {
      "text/plain": [
       "'test test '"
      ]
     },
     "execution_count": 35,
     "metadata": {},
     "output_type": "execute_result"
    }
   ],
   "source": [
    "f('test ')"
   ]
  },
  {
   "cell_type": "code",
   "execution_count": 36,
   "id": "aa1c55a3-f73b-432e-aedb-f0656e68fc2b",
   "metadata": {},
   "outputs": [
    {
     "data": {
      "text/plain": [
       "[1, 2, 3, 4, 1, 2, 3, 4]"
      ]
     },
     "execution_count": 36,
     "metadata": {},
     "output_type": "execute_result"
    }
   ],
   "source": [
    "f([1,2,3,4])"
   ]
  },
  {
   "cell_type": "code",
   "execution_count": 37,
   "id": "3b95c50a-6fcc-4679-b790-11271ebeb84e",
   "metadata": {},
   "outputs": [
    {
     "data": {
      "text/plain": [
       "-24"
      ]
     },
     "execution_count": 37,
     "metadata": {},
     "output_type": "execute_result"
    }
   ],
   "source": [
    "f(-12)"
   ]
  },
  {
   "cell_type": "code",
   "execution_count": 38,
   "id": "9b722541-db8a-4d4b-bdd2-210ec56b2e61",
   "metadata": {},
   "outputs": [
    {
     "data": {
      "text/plain": [
       "20"
      ]
     },
     "execution_count": 38,
     "metadata": {},
     "output_type": "execute_result"
    }
   ],
   "source": [
    "f(f(5))"
   ]
  },
  {
   "cell_type": "code",
   "execution_count": 39,
   "id": "f28f882d-2077-42df-8081-24df3239cb73",
   "metadata": {},
   "outputs": [
    {
     "data": {
      "text/plain": [
       "'hellohellohellohello'"
      ]
     },
     "execution_count": 39,
     "metadata": {},
     "output_type": "execute_result"
    }
   ],
   "source": [
    "f(f('hello'))"
   ]
  },
  {
   "cell_type": "markdown",
   "id": "072c697a-5590-4065-8780-8ec582470ff8",
   "metadata": {},
   "source": [
    "Calculate the expression $$\\frac{1}{1+\\frac{1}{1+x}}$$\n",
    "\n",
    "for x=23 and x =1.3"
   ]
  },
  {
   "cell_type": "code",
   "execution_count": 41,
   "id": "4bc70154-90d2-416f-b75f-7289b25907c5",
   "metadata": {},
   "outputs": [
    {
     "name": "stdout",
     "output_type": "stream",
     "text": [
      "0.96\n",
      "0.6969696969696969\n"
     ]
    }
   ],
   "source": [
    "def f(x):\n",
    "\treturn 1/(1+(1/(1+x)))\n",
    "\t\n",
    "print(f(23))\n",
    "print(f(1.3))"
   ]
  },
  {
   "cell_type": "code",
   "execution_count": 42,
   "id": "ab85fc26-96af-4f88-920b-455f64064dea",
   "metadata": {},
   "outputs": [
    {
     "data": {
      "text/plain": [
       "0.96"
      ]
     },
     "execution_count": 42,
     "metadata": {},
     "output_type": "execute_result"
    }
   ],
   "source": [
    "def f(x):\n",
    "    return 1 / (1+x)\n",
    "\n",
    "x = 23\n",
    "f(f(x))"
   ]
  },
  {
   "cell_type": "markdown",
   "id": "ac373f70-ad88-422a-b017-40872a02076b",
   "metadata": {},
   "source": [
    "# Symbolic computation versus Numerical computations"
   ]
  },
  {
   "cell_type": "code",
   "execution_count": 43,
   "id": "21224d4b-f0fb-40cc-92c4-bc16edbf4ba6",
   "metadata": {},
   "outputs": [],
   "source": [
    "import sympy"
   ]
  },
  {
   "cell_type": "code",
   "execution_count": 44,
   "id": "5eadfa0f-7539-4f90-8f5b-947a7183102a",
   "metadata": {},
   "outputs": [],
   "source": [
    "x = sympy.symbols('x')"
   ]
  },
  {
   "cell_type": "code",
   "execution_count": 45,
   "id": "91694ba8-c365-4bd3-9f28-43317df9d527",
   "metadata": {},
   "outputs": [
    {
     "data": {
      "text/latex": [
       "$\\displaystyle x$"
      ],
      "text/plain": [
       "x"
      ]
     },
     "execution_count": 45,
     "metadata": {},
     "output_type": "execute_result"
    }
   ],
   "source": [
    "x"
   ]
  },
  {
   "cell_type": "code",
   "execution_count": 46,
   "id": "c2c50bdd-7de8-4da2-a02a-dca02d8e8e1f",
   "metadata": {},
   "outputs": [
    {
     "data": {
      "text/latex": [
       "$\\displaystyle \\frac{1}{x + 1}$"
      ],
      "text/plain": [
       "1/(x + 1)"
      ]
     },
     "execution_count": 46,
     "metadata": {},
     "output_type": "execute_result"
    }
   ],
   "source": [
    "f(x)"
   ]
  },
  {
   "cell_type": "code",
   "execution_count": 47,
   "id": "aea8823e-48ba-4c2b-b7b3-a95cc4406050",
   "metadata": {},
   "outputs": [
    {
     "data": {
      "text/latex": [
       "$\\displaystyle \\frac{1}{1 + \\frac{1}{x + 1}}$"
      ],
      "text/plain": [
       "1/(1 + 1/(x + 1))"
      ]
     },
     "execution_count": 47,
     "metadata": {},
     "output_type": "execute_result"
    }
   ],
   "source": [
    "f(f(x))"
   ]
  },
  {
   "cell_type": "code",
   "execution_count": 48,
   "id": "1f0bcca7-2ce2-4a0b-8fd4-8ac2b7d08798",
   "metadata": {},
   "outputs": [
    {
     "data": {
      "text/latex": [
       "$\\displaystyle \\frac{1}{1 + \\frac{1}{1 + \\frac{1}{x + 1}}}$"
      ],
      "text/plain": [
       "1/(1 + 1/(1 + 1/(x + 1)))"
      ]
     },
     "execution_count": 48,
     "metadata": {},
     "output_type": "execute_result"
    }
   ],
   "source": [
    "f(f(f(x)))"
   ]
  },
  {
   "cell_type": "code",
   "execution_count": 49,
   "id": "94f619b9-be85-47f1-a55b-0b9bbf814140",
   "metadata": {},
   "outputs": [],
   "source": [
    "def f(x):\n",
    "    return x/(1+x)"
   ]
  },
  {
   "cell_type": "code",
   "execution_count": 50,
   "id": "688641d8-60c8-4947-9bd6-29cca006cd02",
   "metadata": {},
   "outputs": [
    {
     "data": {
      "text/latex": [
       "$\\displaystyle \\frac{x}{\\left(x + 1\\right) \\left(\\frac{x}{x + 1} + 1\\right)}$"
      ],
      "text/plain": [
       "x/((x + 1)*(x/(x + 1) + 1))"
      ]
     },
     "execution_count": 50,
     "metadata": {},
     "output_type": "execute_result"
    }
   ],
   "source": [
    "f(f(x))"
   ]
  },
  {
   "cell_type": "code",
   "execution_count": 51,
   "id": "b3921732-14eb-49c2-8e9e-45b66aa7ba0a",
   "metadata": {},
   "outputs": [],
   "source": [
    "xy = sympy.symbols('things')"
   ]
  },
  {
   "cell_type": "code",
   "execution_count": 52,
   "id": "be5c63bd-9b5b-4a3c-8302-70c63b9a0c14",
   "metadata": {},
   "outputs": [
    {
     "data": {
      "text/latex": [
       "$\\displaystyle \\frac{things}{\\left(things + 1\\right) \\left(\\frac{things}{things + 1} + 1\\right) \\left(\\frac{things}{\\left(things + 1\\right) \\left(\\frac{things}{things + 1} + 1\\right)} + 1\\right)}$"
      ],
      "text/plain": [
       "things/((things + 1)*(things/(things + 1) + 1)*(things/((things + 1)*(things/(things + 1) + 1)) + 1))"
      ]
     },
     "execution_count": 52,
     "metadata": {},
     "output_type": "execute_result"
    }
   ],
   "source": [
    "f(f(f(xy)))"
   ]
  },
  {
   "cell_type": "code",
   "execution_count": 53,
   "id": "043c3f00-c840-44f3-90a4-ec31e5da9002",
   "metadata": {},
   "outputs": [],
   "source": [
    "x = sympy.symbols('x')"
   ]
  },
  {
   "cell_type": "code",
   "execution_count": 54,
   "id": "376bead9-4dc5-4433-a925-1cc9dda69025",
   "metadata": {},
   "outputs": [],
   "source": [
    "y = sympy.symbols('y')"
   ]
  },
  {
   "cell_type": "code",
   "execution_count": 55,
   "id": "c84817ab-c51b-4111-846f-198b21e287dd",
   "metadata": {},
   "outputs": [
    {
     "data": {
      "text/latex": [
       "$\\displaystyle \\left(x + y\\right)^{3}$"
      ],
      "text/plain": [
       "(x + y)**3"
      ]
     },
     "execution_count": 55,
     "metadata": {},
     "output_type": "execute_result"
    }
   ],
   "source": [
    "(x+y)**3"
   ]
  },
  {
   "cell_type": "code",
   "execution_count": 61,
   "id": "dfc082af-d8ae-457c-8841-9d2f1122b345",
   "metadata": {},
   "outputs": [
    {
     "data": {
      "text/latex": [
       "$\\displaystyle \\left(x + y\\right)^{3}$"
      ],
      "text/plain": [
       "(x + y)**3"
      ]
     },
     "execution_count": 61,
     "metadata": {},
     "output_type": "execute_result"
    }
   ],
   "source": [
    "(x+y)**3"
   ]
  },
  {
   "cell_type": "code",
   "execution_count": 57,
   "id": "fc1b9763-9c75-4e2c-8de7-65a2f8e599c2",
   "metadata": {},
   "outputs": [
    {
     "data": {
      "text/latex": [
       "$\\displaystyle x^{3} + 3 x^{2} y + 3 x y^{2} + y^{3}$"
      ],
      "text/plain": [
       "x**3 + 3*x**2*y + 3*x*y**2 + y**3"
      ]
     },
     "execution_count": 57,
     "metadata": {},
     "output_type": "execute_result"
    }
   ],
   "source": [
    "sympy.expand((x+y)**3)"
   ]
  },
  {
   "cell_type": "code",
   "execution_count": 58,
   "id": "715227aa-2d52-47e2-9794-71ae1c4f0c17",
   "metadata": {},
   "outputs": [
    {
     "data": {
      "text/latex": [
       "$\\displaystyle x^{2} + 2 x y + y^{2}$"
      ],
      "text/plain": [
       "x**2 + 2*x*y + y**2"
      ]
     },
     "execution_count": 58,
     "metadata": {},
     "output_type": "execute_result"
    }
   ],
   "source": [
    "sympy.expand((x+y)**2)"
   ]
  },
  {
   "cell_type": "code",
   "execution_count": 59,
   "id": "d39af784-fdd0-40d6-9b21-e54b25243d79",
   "metadata": {},
   "outputs": [
    {
     "data": {
      "text/latex": [
       "$\\displaystyle x^{7} - 84 x^{6} + 3024 x^{5} - 60480 x^{4} + 725760 x^{3} - 5225472 x^{2} + 20901888 x - 35831808$"
      ],
      "text/plain": [
       "x**7 - 84*x**6 + 3024*x**5 - 60480*x**4 + 725760*x**3 - 5225472*x**2 + 20901888*x - 35831808"
      ]
     },
     "execution_count": 59,
     "metadata": {},
     "output_type": "execute_result"
    }
   ],
   "source": [
    "sympy.expand((x-12)**7)"
   ]
  },
  {
   "cell_type": "code",
   "execution_count": 60,
   "id": "b51cff2b-0527-4a76-a259-470a68c35332",
   "metadata": {},
   "outputs": [
    {
     "data": {
      "text/latex": [
       "$\\displaystyle \\left(x + y\\right)^{2}$"
      ],
      "text/plain": [
       "(x + y)**2"
      ]
     },
     "execution_count": 60,
     "metadata": {},
     "output_type": "execute_result"
    }
   ],
   "source": [
    "sympy.factor(x**2+2*x*y+y**2)"
   ]
  },
  {
   "cell_type": "markdown",
   "id": "ab468294-9b36-4176-a285-29dc7f44ef7a",
   "metadata": {},
   "source": [
    "#Defining the function $$f(x) = x + sin(x)$$"
   ]
  },
  {
   "cell_type": "code",
   "execution_count": 64,
   "id": "dd58dd67-f71c-4ce3-8b72-1d722aa27a06",
   "metadata": {},
   "outputs": [],
   "source": [
    "def f(x):\n",
    "    return x + sympy.sin(x)"
   ]
  },
  {
   "cell_type": "code",
   "execution_count": 63,
   "id": "b2964324-92bb-4e82-988b-87746c171cdf",
   "metadata": {},
   "outputs": [
    {
     "data": {
      "text/latex": [
       "$\\displaystyle \\pi$"
      ],
      "text/plain": [
       "pi"
      ]
     },
     "execution_count": 63,
     "metadata": {},
     "output_type": "execute_result"
    }
   ],
   "source": [
    "f(sympy.pi)"
   ]
  },
  {
   "cell_type": "code",
   "execution_count": 65,
   "id": "bee17bc3-ce0e-4b2b-b561-092786e95e48",
   "metadata": {},
   "outputs": [
    {
     "data": {
      "image/png": "[encoded data removed]",
      "text/plain": [
       "<Figure size 640x480 with 1 Axes>"
      ]
     },
     "metadata": {},
     "output_type": "display_data"
    },
    {
     "data": {
      "text/plain": [
       "<sympy.plotting.plot.Plot at 0x7f10a0a634d0>"
      ]
     },
     "execution_count": 65,
     "metadata": {},
     "output_type": "execute_result"
    }
   ],
   "source": [
    "sympy.plotting.plot(f(x))"
   ]
  },
  {
   "cell_type": "code",
   "execution_count": 67,
   "id": "f833eec3-7216-414d-a33c-0604c8d842ef",
   "metadata": {},
   "outputs": [
    {
     "data": {
      "image/png": "[encoded data removed]",
      "text/plain": [
       "<Figure size 640x480 with 1 Axes>"
      ]
     },
     "metadata": {},
     "output_type": "display_data"
    },
    {
     "data": {
      "text/plain": [
       "<sympy.plotting.plot.Plot at 0x7f109f756e10>"
      ]
     },
     "execution_count": 67,
     "metadata": {},
     "output_type": "execute_result"
    }
   ],
   "source": [
    "sympy.plotting.plot(f(x), (x, -10*sympy.pi, 10*sympy.pi))"
   ]
  },
  {
   "cell_type": "code",
   "execution_count": 68,
   "id": "9cf07c21-653d-42d1-a7b5-116166fcc8de",
   "metadata": {},
   "outputs": [
    {
     "data": {
      "image/png": "[encoded data removed]",
      "text/plain": [
       "<Figure size 640x480 with 1 Axes>"
      ]
     },
     "metadata": {},
     "output_type": "display_data"
    },
    {
     "data": {
      "text/plain": [
       "<sympy.plotting.plot.Plot at 0x7f1097518490>"
      ]
     },
     "execution_count": 68,
     "metadata": {},
     "output_type": "execute_result"
    }
   ],
   "source": [
    "sympy.plotting.plot(f(x), f(x)**2, (x, -10*sympy.pi, 10*sympy.pi))"
   ]
  },
  {
   "cell_type": "code",
   "execution_count": 70,
   "id": "843f058b-ce3d-44ff-9ef0-a9fff76ff1e2",
   "metadata": {},
   "outputs": [
    {
     "name": "stdout",
     "output_type": "stream",
     "text": [
      "x + sin(x)\n"
     ]
    }
   ],
   "source": [
    "print(f(x))"
   ]
  },
  {
   "cell_type": "code",
   "execution_count": 86,
   "id": "340dac45-ab58-4474-a31e-931938d3283e",
   "metadata": {},
   "outputs": [],
   "source": [
    "s = [f(x*i) for i in range(15)] ## we will see this type of programming soon List comprehension"
   ]
  },
  {
   "cell_type": "code",
   "execution_count": 87,
   "id": "68b88403-3e67-44fa-80bf-353123a2f522",
   "metadata": {},
   "outputs": [
    {
     "data": {
      "text/plain": [
       "[0,\n",
       " x + sin(x),\n",
       " 2*x + sin(2*x),\n",
       " 3*x + sin(3*x),\n",
       " 4*x + sin(4*x),\n",
       " 5*x + sin(5*x),\n",
       " 6*x + sin(6*x),\n",
       " 7*x + sin(7*x),\n",
       " 8*x + sin(8*x),\n",
       " 9*x + sin(9*x),\n",
       " 10*x + sin(10*x),\n",
       " 11*x + sin(11*x),\n",
       " 12*x + sin(12*x),\n",
       " 13*x + sin(13*x),\n",
       " 14*x + sin(14*x)]"
      ]
     },
     "execution_count": 87,
     "metadata": {},
     "output_type": "execute_result"
    }
   ],
   "source": [
    "s"
   ]
  },
  {
   "cell_type": "code",
   "execution_count": 88,
   "id": "19415774-1920-41b0-b29f-de89e065102b",
   "metadata": {},
   "outputs": [
    {
     "data": {
      "image/png": "[encoded data removed]",
      "text/plain": [
       "<Figure size 640x480 with 1 Axes>"
      ]
     },
     "metadata": {},
     "output_type": "display_data"
    },
    {
     "data": {
      "text/plain": [
       "<sympy.plotting.plot.Plot at 0x7f10970a1710>"
      ]
     },
     "execution_count": 88,
     "metadata": {},
     "output_type": "execute_result"
    }
   ],
   "source": [
    "sympy.plotting.plot(*s, (x, -10*sympy.pi, 10*sympy.pi))"
   ]
  },
  {
   "cell_type": "code",
   "execution_count": null,
   "id": "9350e9fe-67bd-4d83-9880-2192b3e19b4a",
   "metadata": {},
   "outputs": [],
   "source": []
  }
 ],
 "metadata": {
  "kernelspec": {
   "display_name": "anaconda-panel-2023.05-py310",
   "language": "python",
   "name": "conda-env-anaconda-panel-2023.05-py310-py"
  },
  "language_info": {
   "codemirror_mode": {
    "name": "ipython",
    "version": 3
   },
   "file_extension": ".py",
   "mimetype": "text/x-python",
   "name": "python",
   "nbconvert_exporter": "python",
   "pygments_lexer": "ipython3",
   "version": "3.11.5"
  }
 },
 "nbformat": 4,
 "nbformat_minor": 5
}
