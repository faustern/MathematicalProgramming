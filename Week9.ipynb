{
 "cells": [
  {
   "cell_type": "code",
   "execution_count": 60,
   "id": "efb307c7-2d3a-4590-9b16-dbfd865c41a0",
   "metadata": {},
   "outputs": [],
   "source": [
    "import nltk\n",
    "from nltk.book import *"
   ]
  },
  {
   "cell_type": "code",
   "execution_count": 62,
   "id": "d258542b-f899-4772-bf1c-2319b91eeb6e",
   "metadata": {},
   "outputs": [
    {
     "data": {
      "text/plain": [
       "141576"
      ]
     },
     "execution_count": 62,
     "metadata": {},
     "output_type": "execute_result"
    }
   ],
   "source": [
    "len(text2)"
   ]
  },
  {
   "cell_type": "code",
   "execution_count": 64,
   "id": "e49cea75-09ce-4160-8226-6c7abecf2fef",
   "metadata": {},
   "outputs": [
    {
     "data": {
      "text/plain": [
       "['family', 'of', 'his', 'nephew', 'Mr', '.', 'Henry', 'Dashwood', ',', 'the']"
      ]
     },
     "execution_count": 64,
     "metadata": {},
     "output_type": "execute_result"
    }
   ],
   "source": [
    "text2[140:150]"
   ]
  },
  {
   "cell_type": "code",
   "execution_count": 66,
   "id": "722854e1-20b2-4259-a6d8-ec5a085c16f7",
   "metadata": {},
   "outputs": [],
   "source": [
    "s1 = 'hello'; s2 = 'world'"
   ]
  },
  {
   "cell_type": "code",
   "execution_count": 68,
   "id": "78e9db8a-805f-4632-bbe3-60c270fd0274",
   "metadata": {},
   "outputs": [
    {
     "data": {
      "text/plain": [
       "'helloworld'"
      ]
     },
     "execution_count": 68,
     "metadata": {},
     "output_type": "execute_result"
    }
   ],
   "source": [
    "''.join([s1,s2])"
   ]
  },
  {
   "cell_type": "code",
   "execution_count": 70,
   "id": "9d83c2f4-2e3f-4a32-ab9e-ac79dd4a0e4b",
   "metadata": {},
   "outputs": [],
   "source": [
    "from functools import reduce"
   ]
  },
  {
   "cell_type": "markdown",
   "id": "87fe3a73-6208-4261-9a6a-27ba866de5dc",
   "metadata": {},
   "source": [
    "recall $f(x,y)$ the ${x_1,x_2,x_3,\\dots,x_4}$ then $$reduce(f,{x_1,x_2,x_3,x_4}=f(f(f(x_1,x_2),x_3),x_4)\\$$"
   ]
  },
  {
   "cell_type": "code",
   "execution_count": 73,
   "id": "a50f2076-a59e-45ee-a5ae-a27bfbdfa976",
   "metadata": {},
   "outputs": [
    {
     "data": {
      "text/plain": [
       "'helloworldexamplemore'"
      ]
     },
     "execution_count": 73,
     "metadata": {},
     "output_type": "execute_result"
    }
   ],
   "source": [
    "reduce(lambda x, y: ''.join([x,y]),('hello','world','example','more'))"
   ]
  },
  {
   "cell_type": "code",
   "execution_count": 98,
   "id": "96e2be11-8108-446b-b506-f9ae12e40c91",
   "metadata": {},
   "outputs": [],
   "source": [
    "x_test = reduce(lambda x, y: ''.join([x,y]),text2)"
   ]
  },
  {
   "cell_type": "code",
   "execution_count": 76,
   "id": "2fb029fb-5bd5-44df-ab44-1acfcda394b9",
   "metadata": {},
   "outputs": [
    {
     "data": {
      "text/plain": [
       "''"
      ]
     },
     "execution_count": 76,
     "metadata": {},
     "output_type": "execute_result"
    }
   ],
   "source": [
    "x_test[100:100]"
   ]
  },
  {
   "cell_type": "code",
   "execution_count": 84,
   "id": "185a3fce-4436-491d-a92a-6953e5e74bc9",
   "metadata": {},
   "outputs": [
    {
     "name": "stdout",
     "output_type": "stream",
     "text": [
      "google appears in the book from 312852th letter with the interval 90\n"
     ]
    }
   ],
   "source": [
    "word = 'google'\n",
    "l_w = len(word)\n",
    "for interval in range(1,100):\n",
    "    for j in range(len(x_test)):\n",
    "        if x_test[0 + j : l_w * interval + j : interval].lower()==word:\n",
    "            print(f'{word} appears in the book from {j}th letter with the interval {interval}')"
   ]
  },
  {
   "cell_type": "code",
   "execution_count": 86,
   "id": "549e63fe-a4b9-4706-87a5-8a16e379884b",
   "metadata": {},
   "outputs": [
    {
     "data": {
      "text/plain": [
       "'googlE'"
      ]
     },
     "execution_count": 86,
     "metadata": {},
     "output_type": "execute_result"
    }
   ],
   "source": [
    "x_test[312852: 6 * 90 + 312852 : 90 ]"
   ]
  },
  {
   "cell_type": "code",
   "execution_count": 94,
   "id": "f728fd8e-af99-4039-82c9-eb6996bb0b91",
   "metadata": {},
   "outputs": [
    {
     "name": "stdin",
     "output_type": "stream",
     "text": [
      "Enter a word: trump\n"
     ]
    },
    {
     "name": "stdout",
     "output_type": "stream",
     "text": [
      "trump appears in the book from 106547th letter with the interval 40\n",
      "trump appears in the book from 446196th letter with the interval 72\n"
     ]
    }
   ],
   "source": [
    "word = input('Enter a word:')\n",
    "l_w = len(word)\n",
    "check = True\n",
    "for interval in range(1,100):\n",
    "    for j in range(len(x_test)):\n",
    "        if x_test[0 + j : l_w * interval + j : interval].lower()==word:\n",
    "            print(f'{word} appears in the book from {j}th letter with the interval {interval}')\n",
    "            check = False\n",
    "if check: print('could not find')"
   ]
  },
  {
   "cell_type": "markdown",
   "id": "c6ea2135-a210-43b7-bb10-9456246b6159",
   "metadata": {},
   "source": [
    "### List comprehension"
   ]
  },
  {
   "cell_type": "code",
   "execution_count": 109,
   "id": "507fc9fe-04c5-47f9-871c-f9276bb2a958",
   "metadata": {},
   "outputs": [
    {
     "data": {
      "text/plain": [
       "range(0, 10)"
      ]
     },
     "execution_count": 109,
     "metadata": {},
     "output_type": "execute_result"
    }
   ],
   "source": [
    "range(10)"
   ]
  },
  {
   "cell_type": "code",
   "execution_count": 111,
   "id": "c2b6da3c-4568-49b2-a78b-4369860aae9c",
   "metadata": {},
   "outputs": [
    {
     "data": {
      "text/plain": [
       "[0, 1, 2, 3, 4, 5, 6, 7, 8, 9]"
      ]
     },
     "execution_count": 111,
     "metadata": {},
     "output_type": "execute_result"
    }
   ],
   "source": [
    "list(range(10))"
   ]
  },
  {
   "cell_type": "code",
   "execution_count": 113,
   "id": "4949ab25-7456-4c20-a3a8-a8bcc31bc56a",
   "metadata": {},
   "outputs": [
    {
     "data": {
      "text/plain": [
       "[0, 1, 2, 3, 4, 5, 6, 7, 8, 9]"
      ]
     },
     "execution_count": 113,
     "metadata": {},
     "output_type": "execute_result"
    }
   ],
   "source": [
    "[i for i in range(10)]"
   ]
  },
  {
   "cell_type": "markdown",
   "id": "86bc1578-9a9f-48b7-9699-bf933dc206e6",
   "metadata": {},
   "source": [
    "$$(i | 0 <= i < 10)$$"
   ]
  },
  {
   "cell_type": "code",
   "execution_count": 125,
   "id": "a4a9e2bd-d1aa-4a7c-8a5b-7adbadfeb36e",
   "metadata": {},
   "outputs": [
    {
     "data": {
      "text/plain": [
       "[0, 6, 12, 18, 24, 30, 36]"
      ]
     },
     "execution_count": 125,
     "metadata": {},
     "output_type": "execute_result"
    }
   ],
   "source": [
    "[i*2 for i in range(0, 20, 3)]"
   ]
  },
  {
   "cell_type": "markdown",
   "id": "a9caeb18-e541-48b6-a387-eb7f511ea92b",
   "metadata": {},
   "source": [
    "$$(2i | 0 <= i < 20, 3)$$"
   ]
  },
  {
   "cell_type": "markdown",
   "id": "d97c95fa-ad46-4dec-83a0-f96b40aac5b1",
   "metadata": {},
   "source": [
    "generate the numbers $2^n-1$ for n between 1 and 100 using list comprehension"
   ]
  },
  {
   "cell_type": "code",
   "execution_count": 131,
   "id": "393a5445-93dd-4c0c-b8c5-3150a5eaf8b5",
   "metadata": {},
   "outputs": [
    {
     "data": {
      "text/plain": [
       "[1,\n",
       " 3,\n",
       " 7,\n",
       " 15,\n",
       " 31,\n",
       " 63,\n",
       " 127,\n",
       " 255,\n",
       " 511,\n",
       " 1023,\n",
       " 2047,\n",
       " 4095,\n",
       " 8191,\n",
       " 16383,\n",
       " 32767,\n",
       " 65535,\n",
       " 131071,\n",
       " 262143,\n",
       " 524287,\n",
       " 1048575,\n",
       " 2097151,\n",
       " 4194303,\n",
       " 8388607,\n",
       " 16777215,\n",
       " 33554431,\n",
       " 67108863,\n",
       " 134217727,\n",
       " 268435455,\n",
       " 536870911,\n",
       " 1073741823,\n",
       " 2147483647,\n",
       " 4294967295,\n",
       " 8589934591,\n",
       " 17179869183,\n",
       " 34359738367,\n",
       " 68719476735,\n",
       " 137438953471,\n",
       " 274877906943,\n",
       " 549755813887,\n",
       " 1099511627775,\n",
       " 2199023255551,\n",
       " 4398046511103,\n",
       " 8796093022207,\n",
       " 17592186044415,\n",
       " 35184372088831,\n",
       " 70368744177663,\n",
       " 140737488355327,\n",
       " 281474976710655,\n",
       " 562949953421311,\n",
       " 1125899906842623,\n",
       " 2251799813685247,\n",
       " 4503599627370495,\n",
       " 9007199254740991,\n",
       " 18014398509481983,\n",
       " 36028797018963967,\n",
       " 72057594037927935,\n",
       " 144115188075855871,\n",
       " 288230376151711743,\n",
       " 576460752303423487,\n",
       " 1152921504606846975,\n",
       " 2305843009213693951,\n",
       " 4611686018427387903,\n",
       " 9223372036854775807,\n",
       " 18446744073709551615,\n",
       " 36893488147419103231,\n",
       " 73786976294838206463,\n",
       " 147573952589676412927,\n",
       " 295147905179352825855,\n",
       " 590295810358705651711,\n",
       " 1180591620717411303423,\n",
       " 2361183241434822606847,\n",
       " 4722366482869645213695,\n",
       " 9444732965739290427391,\n",
       " 18889465931478580854783,\n",
       " 37778931862957161709567,\n",
       " 75557863725914323419135,\n",
       " 151115727451828646838271,\n",
       " 302231454903657293676543,\n",
       " 604462909807314587353087,\n",
       " 1208925819614629174706175,\n",
       " 2417851639229258349412351,\n",
       " 4835703278458516698824703,\n",
       " 9671406556917033397649407,\n",
       " 19342813113834066795298815,\n",
       " 38685626227668133590597631,\n",
       " 77371252455336267181195263,\n",
       " 154742504910672534362390527,\n",
       " 309485009821345068724781055,\n",
       " 618970019642690137449562111,\n",
       " 1237940039285380274899124223,\n",
       " 2475880078570760549798248447,\n",
       " 4951760157141521099596496895,\n",
       " 9903520314283042199192993791,\n",
       " 19807040628566084398385987583,\n",
       " 39614081257132168796771975167,\n",
       " 79228162514264337593543950335,\n",
       " 158456325028528675187087900671,\n",
       " 316912650057057350374175801343,\n",
       " 633825300114114700748351602687]"
      ]
     },
     "execution_count": 131,
     "metadata": {},
     "output_type": "execute_result"
    }
   ],
   "source": [
    "[(2**i - 1) for i in range(1, 100)]"
   ]
  },
  {
   "cell_type": "markdown",
   "id": "4f7c5cd0-5342-45d0-a391-863981e07105",
   "metadata": {},
   "source": [
    "Procedure (classical for loop) approach"
   ]
  },
  {
   "cell_type": "code",
   "execution_count": 133,
   "id": "aa945ead-21f9-4eeb-9fcd-c76718e71e59",
   "metadata": {},
   "outputs": [
    {
     "data": {
      "text/plain": [
       "[1, 3, 7, 15, 31, 63, 127, 255, 511]"
      ]
     },
     "execution_count": 133,
     "metadata": {},
     "output_type": "execute_result"
    }
   ],
   "source": [
    "L = []\n",
    "for i in range(1,10):\n",
    "    L.append(2**i-1)\n",
    "L"
   ]
  },
  {
   "cell_type": "markdown",
   "id": "d82d4fe5-a20c-4721-884b-7b7605567948",
   "metadata": {},
   "source": [
    "Functional programming approach"
   ]
  },
  {
   "cell_type": "code",
   "execution_count": 142,
   "id": "7af70e09-74d6-407d-ac8d-57f637942bb3",
   "metadata": {},
   "outputs": [
    {
     "data": {
      "text/plain": [
       "[1, 3, 7, 15, 31, 63, 127, 255, 511]"
      ]
     },
     "execution_count": 142,
     "metadata": {},
     "output_type": "execute_result"
    }
   ],
   "source": [
    "list(map(lambda i : 2**i-1, range(1,10)))"
   ]
  },
  {
   "cell_type": "markdown",
   "id": "7a521fe4-f581-4546-a329-1a31cae76221",
   "metadata": {},
   "source": [
    "Generate the list $(x, \\cos(x))$ for certain interval of $ 0 <= x <= pi $"
   ]
  },
  {
   "cell_type": "code",
   "execution_count": 145,
   "id": "605f7ef0-72a8-4e69-9b01-5fbdda7b1f80",
   "metadata": {},
   "outputs": [],
   "source": [
    "import math"
   ]
  },
  {
   "cell_type": "code",
   "execution_count": 159,
   "id": "f06685ce-acc9-4ce8-b3f9-87fd3fd36007",
   "metadata": {},
   "outputs": [
    {
     "data": {
      "text/plain": [
       "[(0, 1.0), (1, 0.5403023058681398), (2, -0.4161468365471424)]"
      ]
     },
     "execution_count": 159,
     "metadata": {},
     "output_type": "execute_result"
    }
   ],
   "source": [
    "list(map(lambda x : (x, math.cos(x)), range(0,int(math.pi))))"
   ]
  },
  {
   "cell_type": "code",
   "execution_count": 157,
   "id": "03cfe2c8-bae5-49d9-b29f-0f0243d0f61d",
   "metadata": {},
   "outputs": [
    {
     "data": {
      "text/plain": [
       "[(1, 0.9510565162951535),\n",
       " (2, 0.8090169943749475),\n",
       " (3, 0.5877852522924731),\n",
       " (4, 0.30901699437494745),\n",
       " (5, 6.123233995736766e-17),\n",
       " (6, -0.30901699437494734),\n",
       " (7, -0.587785252292473),\n",
       " (8, -0.8090169943749473),\n",
       " (9, -0.9510565162951535),\n",
       " (10, -1.0)]"
      ]
     },
     "execution_count": 157,
     "metadata": {},
     "output_type": "execute_result"
    }
   ],
   "source": [
    "[(x, math.cos(x/10 * math.pi)) for x in range(1, 11)]"
   ]
  },
  {
   "cell_type": "code",
   "execution_count": 163,
   "id": "eabafee5-5c10-4b13-a7fd-85369998f8da",
   "metadata": {},
   "outputs": [
    {
     "name": "stdout",
     "output_type": "stream",
     "text": [
      "[(0, 1.0)]\n"
     ]
    }
   ],
   "source": [
    "import math\n",
    "\n",
    "step_size = 100\n",
    "\n",
    "interval = [x for x in range(0, int(math.pi / step_size) + 1)]\n",
    "\n",
    "result = [(x * step_size, math.cos(x * step_size)) for x in interval]\n",
    "\n",
    "# Print the result\n",
    "print(result)"
   ]
  },
  {
   "cell_type": "markdown",
   "id": "f6c60886-13fc-4588-86d7-c21441d5800c",
   "metadata": {},
   "source": [
    "Write a code to generate all numbers between 1 and 50 which is divisible by 7"
   ]
  },
  {
   "cell_type": "code",
   "execution_count": 166,
   "id": "aac1c412-c018-4b81-8548-a5abe7cc9afe",
   "metadata": {},
   "outputs": [
    {
     "data": {
      "text/plain": [
       "[7, 14, 21, 28, 35, 42, 49]"
      ]
     },
     "execution_count": 166,
     "metadata": {},
     "output_type": "execute_result"
    }
   ],
   "source": [
    "[i for i in range(1,51) if i%7 == 0]"
   ]
  },
  {
   "cell_type": "code",
   "execution_count": 171,
   "id": "cc3ef60b-8a1b-4717-8df9-3ad07b20dbde",
   "metadata": {},
   "outputs": [
    {
     "data": {
      "text/plain": [
       "[77]"
      ]
     },
     "execution_count": 171,
     "metadata": {},
     "output_type": "execute_result"
    }
   ],
   "source": [
    "[i for i in range(1,101) if i%7 == 0 and i%11 == 0]"
   ]
  },
  {
   "cell_type": "code",
   "execution_count": 173,
   "id": "6416406a-64e8-497a-a0a2-ef803e7991c9",
   "metadata": {},
   "outputs": [],
   "source": [
    "x = ['sydney', 20, 'western', 4.3, 'wollongong', 2333, [2, 4, 4]]"
   ]
  },
  {
   "cell_type": "markdown",
   "id": "ee910ee1-e7da-4bd8-9f07-9b37b56decd8",
   "metadata": {},
   "source": [
    "Write code to get all the strings from this list x and then get only all the numbers and finally put the codes together so that the strings appears first and then the numbers appear afterward.. using list comprehension"
   ]
  },
  {
   "cell_type": "code",
   "execution_count": 178,
   "id": "d573763e-4c9b-4dd8-8b54-47ea26dea573",
   "metadata": {},
   "outputs": [
    {
     "data": {
      "text/plain": [
       "['sydney', 20, 'western', 4.3, 'wollongong', 2333, [2, 4, 4]]"
      ]
     },
     "execution_count": 178,
     "metadata": {},
     "output_type": "execute_result"
    }
   ],
   "source": [
    "[item for item in x]"
   ]
  },
  {
   "cell_type": "code",
   "execution_count": 184,
   "id": "7e21b62d-0a81-42c9-a713-26a2a1f74467",
   "metadata": {},
   "outputs": [
    {
     "data": {
      "text/plain": [
       "[['sydney', 'western', 'wollongong'], [20, 2333]]"
      ]
     },
     "execution_count": 184,
     "metadata": {},
     "output_type": "execute_result"
    }
   ],
   "source": [
    "[[i for i in x if type(i) == str],[i for i in x if type(i) == int]]"
   ]
  },
  {
   "cell_type": "code",
   "execution_count": 186,
   "id": "ab5db173-d678-483d-b932-92f1b57ecf97",
   "metadata": {},
   "outputs": [
    {
     "data": {
      "text/plain": [
       "[(1, 13),\n",
       " (1, 16),\n",
       " (1, 19),\n",
       " (1, 22),\n",
       " (1, 25),\n",
       " (1, 28),\n",
       " (1, 31),\n",
       " (1, 34),\n",
       " (1, 37),\n",
       " (2, 13),\n",
       " (2, 16),\n",
       " (2, 19),\n",
       " (2, 22),\n",
       " (2, 25),\n",
       " (2, 28),\n",
       " (2, 31),\n",
       " (2, 34),\n",
       " (2, 37),\n",
       " (3, 13),\n",
       " (3, 16),\n",
       " (3, 19),\n",
       " (3, 22),\n",
       " (3, 25),\n",
       " (3, 28),\n",
       " (3, 31),\n",
       " (3, 34),\n",
       " (3, 37),\n",
       " (4, 13),\n",
       " (4, 16),\n",
       " (4, 19),\n",
       " (4, 22),\n",
       " (4, 25),\n",
       " (4, 28),\n",
       " (4, 31),\n",
       " (4, 34),\n",
       " (4, 37)]"
      ]
     },
     "execution_count": 186,
     "metadata": {},
     "output_type": "execute_result"
    }
   ],
   "source": [
    "[(i,j) for i in range(1,5) for j in range(13,40,3)]"
   ]
  },
  {
   "cell_type": "code",
   "execution_count": 192,
   "id": "370fd220-3c8e-48ad-ab89-36528aa4fe55",
   "metadata": {},
   "outputs": [
    {
     "name": "stdout",
     "output_type": "stream",
     "text": [
      "(1, 13)\n",
      "(1, 16)\n",
      "(1, 19)\n",
      "(1, 22)\n",
      "(1, 25)\n",
      "(1, 28)\n",
      "(1, 31)\n",
      "(1, 34)\n",
      "(1, 37)\n",
      "(2, 13)\n",
      "(2, 16)\n",
      "(2, 19)\n",
      "(2, 22)\n",
      "(2, 25)\n",
      "(2, 28)\n",
      "(2, 31)\n",
      "(2, 34)\n",
      "(2, 37)\n",
      "(3, 13)\n",
      "(3, 16)\n",
      "(3, 19)\n",
      "(3, 22)\n",
      "(3, 25)\n",
      "(3, 28)\n",
      "(3, 31)\n",
      "(3, 34)\n",
      "(3, 37)\n",
      "(4, 13)\n",
      "(4, 16)\n",
      "(4, 19)\n",
      "(4, 22)\n",
      "(4, 25)\n",
      "(4, 28)\n",
      "(4, 31)\n",
      "(4, 34)\n",
      "(4, 37)\n"
     ]
    }
   ],
   "source": [
    "for i in range(1, 5):\n",
    "    for j in range(13,40,3):\n",
    "        print((i,j))"
   ]
  },
  {
   "cell_type": "markdown",
   "id": "409fc427-fb26-4568-be30-e761be61d00f",
   "metadata": {},
   "source": [
    "Mathematical $$\\{(i,j) \\mid 1 \\leq 10, 5 \\leq j \\leq 15}\\$$"
   ]
  },
  {
   "cell_type": "markdown",
   "id": "d2e4747e-8d1e-4d9f-8917-2a30addef432",
   "metadata": {},
   "source": [
    "Consider the Pythagorean paired $(m,n)$ i.e, $m^2+n^2$ is a square number.. for example $(3,4)$ is a pythagorean number as $3^2 + 4^2 = 5^2$.. write a list comprehension to find all the pythagorean paired between 1 to 500.."
   ]
  },
  {
   "cell_type": "code",
   "execution_count": 199,
   "id": "4de36e6f-fec4-48e8-87ee-df50b12fdeee",
   "metadata": {},
   "outputs": [
    {
     "ename": "NameError",
     "evalue": "name 'sqrt' is not defined",
     "output_type": "error",
     "traceback": [
      "\u001b[0;31m---------------------------------------------------------------------------\u001b[0m",
      "\u001b[0;31mNameError\u001b[0m                                 Traceback (most recent call last)",
      "Cell \u001b[0;32mIn[199], line 1\u001b[0m\n\u001b[0;32m----> 1\u001b[0m sqrt(n)\u001b[38;5;241m.\u001b[39mis_integer()\n",
      "\u001b[0;31mNameError\u001b[0m: name 'sqrt' is not defined"
     ]
    }
   ],
   "source": [
    "sqrt(n).is_integer()"
   ]
  },
  {
   "cell_type": "code",
   "execution_count": 201,
   "id": "4e5a3d9d-fb71-4491-913c-1df772cf26b2",
   "metadata": {},
   "outputs": [
    {
     "data": {
      "text/plain": [
       "[(3, 4),\n",
       " (5, 12),\n",
       " (6, 8),\n",
       " (7, 24),\n",
       " (8, 15),\n",
       " (9, 12),\n",
       " (9, 40),\n",
       " (10, 24),\n",
       " (12, 16),\n",
       " (12, 35),\n",
       " (14, 48),\n",
       " (15, 20),\n",
       " (15, 36),\n",
       " (16, 30),\n",
       " (18, 24),\n",
       " (20, 21),\n",
       " (20, 48),\n",
       " (21, 28),\n",
       " (24, 32),\n",
       " (24, 45),\n",
       " (27, 36),\n",
       " (28, 45),\n",
       " (30, 40),\n",
       " (33, 44),\n",
       " (36, 48),\n",
       " (40, 42)]"
      ]
     },
     "execution_count": 201,
     "metadata": {},
     "output_type": "execute_result"
    }
   ],
   "source": [
    "[(m,n) for m in range(1,51) for n in range(m,51) if math.sqrt(m**2+n**2).is_integer()]"
   ]
  },
  {
   "cell_type": "markdown",
   "id": "08663980-8bf9-472f-a051-141e8751fd7d",
   "metadata": {},
   "source": [
    "enhance this tho find all pythagorean pairs such as (3,4) i.e. (n,n+1) which has the pythagorean property"
   ]
  },
  {
   "cell_type": "code",
   "execution_count": 208,
   "id": "db710b16-7f36-4f1e-9a76-efbb4e148e28",
   "metadata": {},
   "outputs": [
    {
     "data": {
      "text/plain": [
       "[(3, 4), (20, 21), (119, 120)]"
      ]
     },
     "execution_count": 208,
     "metadata": {},
     "output_type": "execute_result"
    }
   ],
   "source": [
    "[(m,n) for m in range(1,501) for n in range(m,501) if math.sqrt(m**2+n**2).is_integer() and n == m+1]"
   ]
  },
  {
   "cell_type": "markdown",
   "id": "c0798eec-ccfb-4d78-b158-ff6e9e1a6f54",
   "metadata": {},
   "source": [
    "Finally, if we need if and else.. to introduce inside the list comprehension"
   ]
  },
  {
   "cell_type": "code",
   "execution_count": 213,
   "id": "9adaa212-abf4-409c-88f4-371bcd44f99f",
   "metadata": {},
   "outputs": [
    {
     "data": {
      "text/plain": [
       "['less', 'less', 'less', 15]"
      ]
     },
     "execution_count": 213,
     "metadata": {},
     "output_type": "execute_result"
    }
   ],
   "source": [
    "[n if n>10 else 'less' for n in range(20) if n%5 == 0]"
   ]
  },
  {
   "cell_type": "code",
   "execution_count": 217,
   "id": "0b0d84a4-4024-46da-8ab1-899e3b809b3d",
   "metadata": {},
   "outputs": [],
   "source": [
    "x = ['sydney', [1,2,3], 3.5, 'hello', ['name','degree'], 12]"
   ]
  },
  {
   "cell_type": "markdown",
   "id": "ba96c362-5914-471b-9916-52b248b705b8",
   "metadata": {},
   "source": [
    "from 'x', get the first and then get first element of the list"
   ]
  },
  {
   "cell_type": "code",
   "execution_count": 221,
   "id": "3acb2592-570e-4e2e-a0a9-81b851909824",
   "metadata": {},
   "outputs": [
    {
     "name": "stdout",
     "output_type": "stream",
     "text": [
      "[1, 'name']\n"
     ]
    }
   ],
   "source": [
    "first_elements = [item[0] for item in x if type(item) == list]\n",
    "print(first_elements)"
   ]
  },
  {
   "cell_type": "code",
   "execution_count": 223,
   "id": "2b4d81d5-7c24-434d-949e-c00c878047eb",
   "metadata": {},
   "outputs": [
    {
     "data": {
      "text/plain": [
       "['', 1, '', '', 'name', '']"
      ]
     },
     "execution_count": 223,
     "metadata": {},
     "output_type": "execute_result"
    }
   ],
   "source": [
    "[item[0] if type(item) == list else '' for item in x]"
   ]
  },
  {
   "cell_type": "markdown",
   "id": "de32d3e1-d0b4-4cc4-8ea3-0f905320c626",
   "metadata": {},
   "source": [
    "## Symbolic computation in library sympy"
   ]
  },
  {
   "cell_type": "code",
   "execution_count": 226,
   "id": "d0806003-3cd3-4cc6-a8f7-8f2be526d687",
   "metadata": {},
   "outputs": [],
   "source": [
    "import sympy"
   ]
  },
  {
   "cell_type": "code",
   "execution_count": 228,
   "id": "5d518bcb-02a1-4bf1-8ec0-3ae1c1a532d9",
   "metadata": {},
   "outputs": [],
   "source": [
    "def f(x):\n",
    "    return 3*x + x"
   ]
  },
  {
   "cell_type": "code",
   "execution_count": 230,
   "id": "a8e47694-39c0-4077-b3bd-2ef05636c5f0",
   "metadata": {},
   "outputs": [
    {
     "data": {
      "text/plain": [
       "48"
      ]
     },
     "execution_count": 230,
     "metadata": {},
     "output_type": "execute_result"
    }
   ],
   "source": [
    "f(12)"
   ]
  },
  {
   "cell_type": "code",
   "execution_count": 232,
   "id": "4d5de36a-1576-4eff-a33e-9908fbab1ef9",
   "metadata": {},
   "outputs": [
    {
     "data": {
      "text/plain": [
       "'testtesttesttest'"
      ]
     },
     "execution_count": 232,
     "metadata": {},
     "output_type": "execute_result"
    }
   ],
   "source": [
    "f('test')"
   ]
  },
  {
   "cell_type": "code",
   "execution_count": 234,
   "id": "60b980f8-94ae-49ce-8325-b9113955d069",
   "metadata": {},
   "outputs": [],
   "source": [
    "x = sympy.symbols('x')"
   ]
  },
  {
   "cell_type": "code",
   "execution_count": 236,
   "id": "22863fb0-ce01-421e-a953-5474bcfb8c19",
   "metadata": {},
   "outputs": [
    {
     "data": {
      "text/latex": [
       "$\\displaystyle 4 x$"
      ],
      "text/plain": [
       "4*x"
      ]
     },
     "execution_count": 236,
     "metadata": {},
     "output_type": "execute_result"
    }
   ],
   "source": [
    "f(x)"
   ]
  },
  {
   "cell_type": "code",
   "execution_count": 238,
   "id": "df7105ab-2cc1-4953-9696-25f4c35dc6f7",
   "metadata": {},
   "outputs": [],
   "source": [
    "y = sympy.symbols('y')"
   ]
  },
  {
   "cell_type": "code",
   "execution_count": 240,
   "id": "b6c93d52-dc8f-4da4-894f-adc9ea5559f8",
   "metadata": {},
   "outputs": [
    {
     "data": {
      "text/latex": [
       "$\\displaystyle x + y$"
      ],
      "text/plain": [
       "x + y"
      ]
     },
     "execution_count": 240,
     "metadata": {},
     "output_type": "execute_result"
    }
   ],
   "source": [
    "x+y"
   ]
  },
  {
   "cell_type": "code",
   "execution_count": 242,
   "id": "49235de4-f061-4476-a3f0-f86a2f96906a",
   "metadata": {},
   "outputs": [
    {
     "data": {
      "text/latex": [
       "$\\displaystyle \\left(x + y\\right)^{2}$"
      ],
      "text/plain": [
       "(x + y)**2"
      ]
     },
     "execution_count": 242,
     "metadata": {},
     "output_type": "execute_result"
    }
   ],
   "source": [
    "(x+y)**2"
   ]
  },
  {
   "cell_type": "code",
   "execution_count": 244,
   "id": "16f66f35-1116-43d7-b4a9-5278ea64b9f0",
   "metadata": {},
   "outputs": [
    {
     "data": {
      "text/latex": [
       "$\\displaystyle x^{2} + 2 x y + y^{2}$"
      ],
      "text/plain": [
       "x**2 + 2*x*y + y**2"
      ]
     },
     "execution_count": 244,
     "metadata": {},
     "output_type": "execute_result"
    }
   ],
   "source": [
    "sympy.expand((x+y)**2)"
   ]
  },
  {
   "cell_type": "code",
   "execution_count": 246,
   "id": "03a3fe5b-0aee-4d4a-b3c9-66f272251cd0",
   "metadata": {},
   "outputs": [
    {
     "data": {
      "text/latex": [
       "$\\displaystyle x^{13} - 156 x^{12} y + 11232 x^{11} y^{2} - 494208 x^{10} y^{3} + 14826240 x^{9} y^{4} - 320246784 x^{8} y^{5} + 5123948544 x^{7} y^{6} - 61487382528 x^{6} y^{7} + 553386442752 x^{5} y^{8} - 3689242951680 x^{4} y^{9} + 17708366168064 x^{3} y^{10} - 57954652913664 x^{2} y^{11} + 115909305827328 x y^{12} - 106993205379072 y^{13}$"
      ],
      "text/plain": [
       "x**13 - 156*x**12*y + 11232*x**11*y**2 - 494208*x**10*y**3 + 14826240*x**9*y**4 - 320246784*x**8*y**5 + 5123948544*x**7*y**6 - 61487382528*x**6*y**7 + 553386442752*x**5*y**8 - 3689242951680*x**4*y**9 + 17708366168064*x**3*y**10 - 57954652913664*x**2*y**11 + 115909305827328*x*y**12 - 106993205379072*y**13"
      ]
     },
     "execution_count": 246,
     "metadata": {},
     "output_type": "execute_result"
    }
   ],
   "source": [
    "sympy.expand((x-12*y)**13)"
   ]
  },
  {
   "cell_type": "markdown",
   "id": "204f714a-715e-4130-9d7d-9924cb88097f",
   "metadata": {},
   "source": [
    "$(x+y)^2=(x+y)(x+y)=x^2+y^2+2xy$"
   ]
  },
  {
   "cell_type": "markdown",
   "id": "7626e4fc-9221-42ab-b97a-0c0815f2fbbc",
   "metadata": {},
   "source": [
    "$x^{10} + x^5 + 1$, can you factorize this expression as a product of smaller expressions?"
   ]
  },
  {
   "cell_type": "markdown",
   "id": "52df7199-c631-4293-b35e-e5d2b0aa6bde",
   "metadata": {},
   "source": [
    "$$x^{10} + x^5 + 1 = x^{10} + x^9 - x^9 + x^8 - x^8 + x^7 - x^7 + \\dots + x^5 + x^4 - x^4 + x^3 - x^3 + \\dots + 1$$\n",
    "$$x^{10} + x^5 + 1 = x^8(x^2+x+1) - x^9 - x^8 + x^7 - x^7 + \\dots$$\n",
    "$$x^{10} + x^5 + 1 = x^8(x^2+x+1) - x^7(x^2+x+1) + x^7 + \\dots$$\n",
    "$$x^{10} + x^5 + 1 = (x^2+x+1)(x^8 - x^7 + \\dots + 1)$$"
   ]
  },
  {
   "cell_type": "code",
   "execution_count": 268,
   "id": "c9a86e32-91c0-4cc3-9cc5-c4a310b2e3ca",
   "metadata": {},
   "outputs": [
    {
     "data": {
      "text/latex": [
       "$\\displaystyle \\left(x^{2} + x + 1\\right) \\left(x^{8} - x^{7} + x^{5} - x^{4} + x^{3} - x + 1\\right)$"
      ],
      "text/plain": [
       "(x**2 + x + 1)*(x**8 - x**7 + x**5 - x**4 + x**3 - x + 1)"
      ]
     },
     "execution_count": 268,
     "metadata": {},
     "output_type": "execute_result"
    }
   ],
   "source": [
    "sympy.factor(x**10+x**5+1)"
   ]
  },
  {
   "cell_type": "code",
   "execution_count": 270,
   "id": "6877f08d-7e78-4ad5-a8ea-ccf9b3d2f53a",
   "metadata": {},
   "outputs": [],
   "source": [
    "def f(x):\n",
    "    return x/(1+x)"
   ]
  },
  {
   "cell_type": "code",
   "execution_count": 272,
   "id": "7b6e8182-3735-408b-9d82-dabb245bae4d",
   "metadata": {},
   "outputs": [],
   "source": [
    "argument = sympy.symbols('things')"
   ]
  },
  {
   "cell_type": "code",
   "execution_count": 274,
   "id": "b5997401-3da5-465f-acf4-ca9457080494",
   "metadata": {},
   "outputs": [
    {
     "data": {
      "text/latex": [
       "$\\displaystyle \\frac{things}{things + 1}$"
      ],
      "text/plain": [
       "things/(things + 1)"
      ]
     },
     "execution_count": 274,
     "metadata": {},
     "output_type": "execute_result"
    }
   ],
   "source": [
    "f(argument)"
   ]
  },
  {
   "cell_type": "code",
   "execution_count": 276,
   "id": "e9554862-3813-40be-9343-8b5c2bb1973f",
   "metadata": {},
   "outputs": [
    {
     "data": {
      "text/latex": [
       "$\\displaystyle \\frac{things}{\\left(things + 1\\right) \\left(\\frac{things}{things + 1} + 1\\right) \\left(\\frac{things}{\\left(things + 1\\right) \\left(\\frac{things}{things + 1} + 1\\right)} + 1\\right)}$"
      ],
      "text/plain": [
       "things/((things + 1)*(things/(things + 1) + 1)*(things/((things + 1)*(things/(things + 1) + 1)) + 1))"
      ]
     },
     "execution_count": 276,
     "metadata": {},
     "output_type": "execute_result"
    }
   ],
   "source": [
    "f(f(f(argument)))"
   ]
  },
  {
   "cell_type": "code",
   "execution_count": 280,
   "id": "8c7bb19f-5795-48c5-b3c0-0152a5f512ec",
   "metadata": {},
   "outputs": [
    {
     "data": {
      "text/latex": [
       "$\\displaystyle \\frac{things}{3 things + 1}$"
      ],
      "text/plain": [
       "things/(3*things + 1)"
      ]
     },
     "execution_count": 280,
     "metadata": {},
     "output_type": "execute_result"
    }
   ],
   "source": [
    "sympy.simplify(f(f(f(argument))))"
   ]
  },
  {
   "cell_type": "markdown",
   "id": "3e4c6d5a-3445-43f4-b2ac-ea62e150e5cb",
   "metadata": {},
   "source": [
    "Define two function $f(x) = x^2 + 1$ and $g(x) = sin(x) + cos(x)$ and then symbolically compute $f(g(x))$ and $g(f(x))$ and observe they are different... i.e. $$f(g(x)) !=  g(f(x))$$"
   ]
  },
  {
   "cell_type": "code",
   "execution_count": 289,
   "id": "61fab943-36f3-45a8-8b05-fd0479ce3eb5",
   "metadata": {},
   "outputs": [],
   "source": [
    "def f(x):\n",
    "    return x**2 + 1\n",
    "\n",
    "def g(x):\n",
    "    return sympy.sin(x) + sympy.cos(x)"
   ]
  },
  {
   "cell_type": "code",
   "execution_count": 291,
   "id": "c98aef9f-ba0a-4cac-87aa-c27f336d13eb",
   "metadata": {},
   "outputs": [
    {
     "data": {
      "text/latex": [
       "$\\displaystyle x^{2} + 1$"
      ],
      "text/plain": [
       "x**2 + 1"
      ]
     },
     "execution_count": 291,
     "metadata": {},
     "output_type": "execute_result"
    }
   ],
   "source": [
    "f(x)"
   ]
  },
  {
   "cell_type": "code",
   "execution_count": 293,
   "id": "b6a848dc-876f-4077-ace3-b8becc7b1576",
   "metadata": {},
   "outputs": [
    {
     "data": {
      "text/latex": [
       "$\\displaystyle \\sin{\\left(x \\right)} + \\cos{\\left(x \\right)}$"
      ],
      "text/plain": [
       "sin(x) + cos(x)"
      ]
     },
     "execution_count": 293,
     "metadata": {},
     "output_type": "execute_result"
    }
   ],
   "source": [
    "g(x)"
   ]
  },
  {
   "cell_type": "code",
   "execution_count": 295,
   "id": "c568fb79-1388-4adf-9c36-994872239ab5",
   "metadata": {},
   "outputs": [
    {
     "data": {
      "text/latex": [
       "$\\displaystyle \\left(\\sin{\\left(x \\right)} + \\cos{\\left(x \\right)}\\right)^{2} + 1$"
      ],
      "text/plain": [
       "(sin(x) + cos(x))**2 + 1"
      ]
     },
     "execution_count": 295,
     "metadata": {},
     "output_type": "execute_result"
    }
   ],
   "source": [
    "f(g(x))"
   ]
  },
  {
   "cell_type": "code",
   "execution_count": 297,
   "id": "badae94b-093b-46be-8ef6-adf5a440196a",
   "metadata": {},
   "outputs": [
    {
     "data": {
      "text/latex": [
       "$\\displaystyle \\sin{\\left(x^{2} + 1 \\right)} + \\cos{\\left(x^{2} + 1 \\right)}$"
      ],
      "text/plain": [
       "sin(x**2 + 1) + cos(x**2 + 1)"
      ]
     },
     "execution_count": 297,
     "metadata": {},
     "output_type": "execute_result"
    }
   ],
   "source": [
    "g(f(x))"
   ]
  },
  {
   "cell_type": "code",
   "execution_count": 299,
   "id": "f42f741e-b965-45b3-845d-4922b09ceaef",
   "metadata": {},
   "outputs": [
    {
     "data": {
      "text/latex": [
       "$\\displaystyle 2$"
      ],
      "text/plain": [
       "2"
      ]
     },
     "execution_count": 299,
     "metadata": {},
     "output_type": "execute_result"
    }
   ],
   "source": [
    "f(g(sympy.pi))"
   ]
  },
  {
   "cell_type": "code",
   "execution_count": 301,
   "id": "6e8a9858-254e-4b9e-b0e7-9099e11d6e5d",
   "metadata": {},
   "outputs": [
    {
     "data": {
      "text/latex": [
       "$\\displaystyle \\sin{\\left(1 + \\pi^{2} \\right)} + \\cos{\\left(1 + \\pi^{2} \\right)}$"
      ],
      "text/plain": [
       "sin(1 + pi**2) + cos(1 + pi**2)"
      ]
     },
     "execution_count": 301,
     "metadata": {},
     "output_type": "execute_result"
    }
   ],
   "source": [
    "g(f(sympy.pi))"
   ]
  },
  {
   "cell_type": "code",
   "execution_count": 305,
   "id": "87afd5b4-b00b-4fc1-bc97-0f9e31e60fba",
   "metadata": {},
   "outputs": [
    {
     "data": {
      "text/latex": [
       "$\\displaystyle \\sqrt{2} \\sin{\\left(\\frac{\\pi}{4} + 1 + \\pi^{2} \\right)}$"
      ],
      "text/plain": [
       "sqrt(2)*sin(pi/4 + 1 + pi**2)"
      ]
     },
     "execution_count": 305,
     "metadata": {},
     "output_type": "execute_result"
    }
   ],
   "source": [
    "sympy.simplify(g(f(sympy.pi)))"
   ]
  },
  {
   "cell_type": "code",
   "execution_count": 307,
   "id": "5fba9897-a816-4b5e-ade1-91056dcebf57",
   "metadata": {},
   "outputs": [
    {
     "data": {
      "text/plain": [
       "False"
      ]
     },
     "execution_count": 307,
     "metadata": {},
     "output_type": "execute_result"
    }
   ],
   "source": [
    "f(g(sympy.pi)) == g(f(sympy.pi))"
   ]
  },
  {
   "cell_type": "code",
   "execution_count": null,
   "id": "0042607f-f3d4-4232-914d-220a97a96390",
   "metadata": {},
   "outputs": [],
   "source": []
  }
 ],
 "metadata": {
  "kernelspec": {
   "display_name": "anaconda-panel-2023.05-py310",
   "language": "python",
   "name": "conda-env-anaconda-panel-2023.05-py310-py"
  },
  "language_info": {
   "codemirror_mode": {
    "name": "ipython",
    "version": 3
   },
   "file_extension": ".py",
   "mimetype": "text/x-python",
   "name": "python",
   "nbconvert_exporter": "python",
   "pygments_lexer": "ipython3",
   "version": "3.11.5"
  }
 },
 "nbformat": 4,
 "nbformat_minor": 5
}
