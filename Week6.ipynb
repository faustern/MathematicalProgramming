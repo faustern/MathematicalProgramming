{
 "cells": [
  {
   "cell_type": "markdown",
   "id": "1aabd605-45c2-4bb4-942d-a13fccaa67f4",
   "metadata": {},
   "source": [
    "## Functional programming.. new method to write codes..."
   ]
  },
  {
   "cell_type": "markdown",
   "id": "1366e8e0-a42b-4dac-acb3-8ca0fa89c516",
   "metadata": {},
   "source": [
    "## Before.. recall"
   ]
  },
  {
   "cell_type": "code",
   "execution_count": 7,
   "id": "a599659e-ea2c-419d-97c6-9cf2f900c0bd",
   "metadata": {},
   "outputs": [],
   "source": [
    "def f(*a):\n",
    "    return a[0], a[-1]"
   ]
  },
  {
   "cell_type": "code",
   "execution_count": 9,
   "id": "1864b057-92ab-485e-87e2-1ea731cec88b",
   "metadata": {},
   "outputs": [
    {
     "data": {
      "text/plain": [
       "(1, 4)"
      ]
     },
     "execution_count": 9,
     "metadata": {},
     "output_type": "execute_result"
    }
   ],
   "source": [
    "f(1,2,3,4)"
   ]
  },
  {
   "cell_type": "code",
   "execution_count": 15,
   "id": "1d552e17-96a3-45c9-8617-8cdf755ebe01",
   "metadata": {},
   "outputs": [
    {
     "data": {
      "text/plain": [
       "('test', 'western')"
      ]
     },
     "execution_count": 15,
     "metadata": {},
     "output_type": "execute_result"
    }
   ],
   "source": [
    "f('test',[1,2,4], 2.4, 'western')"
   ]
  },
  {
   "cell_type": "code",
   "execution_count": 17,
   "id": "ee0d6585-6ea6-439b-a53d-e4e56375423e",
   "metadata": {},
   "outputs": [
    {
     "data": {
      "text/plain": [
       "(1, 97)"
      ]
     },
     "execution_count": 17,
     "metadata": {},
     "output_type": "execute_result"
    }
   ],
   "source": [
    "f(*range(1,100, 6))"
   ]
  },
  {
   "cell_type": "markdown",
   "id": "97d8c510-1ec9-43ee-a022-468da88fb147",
   "metadata": {},
   "source": [
    "This functions returns the first and the last object of the sequence sent to it..."
   ]
  },
  {
   "cell_type": "code",
   "execution_count": 24,
   "id": "b1aab824-34a1-4f18-8e8c-819733dca6c6",
   "metadata": {},
   "outputs": [],
   "source": [
    "def primeQ(n): #This functions returns True if the number n is prime\n",
    "    if n == 0 or n == 1:\n",
    "        return False\n",
    "    elif n == 2:\n",
    "        return True\n",
    "    elif n % 2 == 0:\n",
    "        return False\n",
    "    for i in range(3, n//2+1):\n",
    "        if n % i == 0:\n",
    "            return False\n",
    "    return True"
   ]
  },
  {
   "cell_type": "code",
   "execution_count": 26,
   "id": "edfe1045-beb2-4ac0-b0d6-8d2116f94274",
   "metadata": {},
   "outputs": [
    {
     "data": {
      "text/plain": [
       "True"
      ]
     },
     "execution_count": 26,
     "metadata": {},
     "output_type": "execute_result"
    }
   ],
   "source": [
    "primeQ(2)"
   ]
  },
  {
   "cell_type": "code",
   "execution_count": 28,
   "id": "5880d58e-f6b0-481f-b948-fadae2ea393d",
   "metadata": {},
   "outputs": [
    {
     "data": {
      "text/plain": [
       "True"
      ]
     },
     "execution_count": 28,
     "metadata": {},
     "output_type": "execute_result"
    }
   ],
   "source": [
    "primeQ(13)"
   ]
  },
  {
   "cell_type": "code",
   "execution_count": 36,
   "id": "dea31837-af7b-4f26-b14d-136ac172d770",
   "metadata": {},
   "outputs": [
    {
     "data": {
      "text/plain": [
       "False"
      ]
     },
     "execution_count": 36,
     "metadata": {},
     "output_type": "execute_result"
    }
   ],
   "source": [
    "primeQ(1233321)"
   ]
  },
  {
   "cell_type": "markdown",
   "id": "06058680-34c3-4c03-bd8a-2c4718f7827a",
   "metadata": {},
   "source": [
    "What is the first prime number after 27364372"
   ]
  },
  {
   "cell_type": "code",
   "execution_count": 38,
   "id": "bdc73ce3-01d8-4778-b93f-e506e08df62f",
   "metadata": {},
   "outputs": [
    {
     "name": "stdout",
     "output_type": "stream",
     "text": [
      "27364433\n"
     ]
    }
   ],
   "source": [
    "n = 27364372\n",
    "while not primeQ(n):\n",
    "    n+=1\n",
    "print(n)"
   ]
  },
  {
   "cell_type": "code",
   "execution_count": 52,
   "id": "6935ed56-9cc3-4a16-a6a9-f948f6480c32",
   "metadata": {},
   "outputs": [
    {
     "name": "stdout",
     "output_type": "stream",
     "text": [
      "27364433\n"
     ]
    }
   ],
   "source": [
    "check = True\n",
    "n = 27364372\n",
    "while check == True:\n",
    "    n += 1\n",
    "    if primeQ(n):\n",
    "        check = False\n",
    "print(n)"
   ]
  },
  {
   "cell_type": "code",
   "execution_count": 47,
   "id": "eed7c9da-ed78-49f7-aad0-85eea000ea75",
   "metadata": {},
   "outputs": [],
   "source": [
    "import sympy"
   ]
  },
  {
   "cell_type": "markdown",
   "id": "271b4665-9a6c-4284-939b-b81ce3368031",
   "metadata": {},
   "source": [
    "What is the first five prime numbers after 2734372"
   ]
  },
  {
   "cell_type": "code",
   "execution_count": 50,
   "id": "c0f916c1-86c6-4d89-aba0-38b39e16a8a5",
   "metadata": {},
   "outputs": [
    {
     "data": {
      "text/plain": [
       "True"
      ]
     },
     "execution_count": 50,
     "metadata": {},
     "output_type": "execute_result"
    }
   ],
   "source": [
    "sympy.isprime(27364433)"
   ]
  },
  {
   "cell_type": "code",
   "execution_count": 54,
   "id": "ea623103-9bdf-42bb-bfda-a7b0d2abb6ea",
   "metadata": {},
   "outputs": [
    {
     "name": "stdout",
     "output_type": "stream",
     "text": [
      "27364433   True\n",
      "27364439   True\n",
      "27364451   True\n",
      "27364489   True\n",
      "27364511   True\n"
     ]
    }
   ],
   "source": [
    "n = 27364372\n",
    "k = 1\n",
    "while k < 6:\n",
    "    if primeQ(n):\n",
    "        print(n, ' ', sympy.isprime(n))\n",
    "        k+=1\n",
    "    n+=1"
   ]
  },
  {
   "cell_type": "code",
   "execution_count": 56,
   "id": "17e979be-34eb-4db7-824c-53ca256e414e",
   "metadata": {},
   "outputs": [
    {
     "name": "stdout",
     "output_type": "stream",
     "text": [
      "[27364433, 27364439, 27364451, 27364489, 27364511]\n"
     ]
    }
   ],
   "source": [
    "firstFivePrimes = []\n",
    "n = 27364372\n",
    "\n",
    "while len(firstFivePrimes) < 5:\n",
    "    n += 1\n",
    "    if(primeQ(n)):\n",
    "        firstFivePrimes.append(n)\n",
    "\n",
    "print(firstFivePrimes)"
   ]
  },
  {
   "cell_type": "code",
   "execution_count": 58,
   "id": "8574fb02-1332-4047-a2e6-3148cf977349",
   "metadata": {},
   "outputs": [
    {
     "name": "stdout",
     "output_type": "stream",
     "text": [
      "[27364433, 27364439, 27364451, 27364489, 27364511]\n"
     ]
    }
   ],
   "source": [
    "count = 0\n",
    "n = 27364372\n",
    "a = []\n",
    "while count < 5:\n",
    "    n += 1\n",
    "    if primeQ(n):\n",
    "        count +=1\n",
    "        a.append(n)\n",
    "print(a)"
   ]
  },
  {
   "cell_type": "markdown",
   "id": "241853b7-3fa0-4419-a58b-b67a631cd38c",
   "metadata": {},
   "source": [
    "Write a function to accept a sequence of numbers such as (4, 16, 17, 18, 3, 5) and then print the sequence up to the occurence of the first prime number"
   ]
  },
  {
   "cell_type": "code",
   "execution_count": 66,
   "id": "0936250a-d6c9-4057-bc1d-66d538cf50d8",
   "metadata": {},
   "outputs": [],
   "source": [
    "def fp(*n):\n",
    "    for i in range(len(n)):\n",
    "        if primeQ(n[i]):\n",
    "            return n[ : i]\n",
    "    return n"
   ]
  },
  {
   "cell_type": "code",
   "execution_count": 76,
   "id": "85742b0a-09e8-4e01-9850-96bfc5e893b7",
   "metadata": {},
   "outputs": [
    {
     "data": {
      "text/plain": [
       "(4, 16, 34, 4, 6, 9)"
      ]
     },
     "execution_count": 76,
     "metadata": {},
     "output_type": "execute_result"
    }
   ],
   "source": [
    "fp(4, 16, 34, 4, 6, 9, 27364439, 17, 18, 3, 5)"
   ]
  },
  {
   "cell_type": "code",
   "execution_count": 82,
   "id": "6566c7b6-5896-42db-b7dd-4cfcd3d7aa13",
   "metadata": {},
   "outputs": [
    {
     "name": "stdout",
     "output_type": "stream",
     "text": [
      "[4, 16, 34, 4, 6, 9]\n"
     ]
    }
   ],
   "source": [
    "def findPrime(a):\n",
    "    b = []\n",
    "    c = 0\n",
    "    while primeQ(a[c]) == False:\n",
    "        b.append(a[c])\n",
    "        c += 1\n",
    "    print(b)\n",
    "\n",
    "a = [4, 16, 34, 4, 6, 9, 27364439, 17, 18, 3, 5]\n",
    "findPrime(a)"
   ]
  },
  {
   "cell_type": "markdown",
   "id": "d9346c3d-2072-44b5-bd20-d7dde0b00cee",
   "metadata": {},
   "source": [
    "Write a code to get a list and return only the primes inside the list"
   ]
  },
  {
   "cell_type": "code",
   "execution_count": 105,
   "id": "9bf99a34-0704-43b3-bbf1-c0e55e7f4224",
   "metadata": {},
   "outputs": [],
   "source": [
    "def pk1(*a):\n",
    "    L=[]\n",
    "    for i in range(len(a)):\n",
    "        if primeQ(a[i]):\n",
    "            L+=[a[i]] # same as L.append(a[i])\n",
    "    return L"
   ]
  },
  {
   "cell_type": "code",
   "execution_count": 107,
   "id": "fa540afe-265a-4bfd-baa7-b20e263e171f",
   "metadata": {},
   "outputs": [
    {
     "data": {
      "text/plain": [
       "[27364439, 17, 3, 5]"
      ]
     },
     "execution_count": 107,
     "metadata": {},
     "output_type": "execute_result"
    }
   ],
   "source": [
    "pk1(4, 16, 34, 4, 6, 9, 27364439, 17, 18, 3, 5)"
   ]
  },
  {
   "cell_type": "code",
   "execution_count": 109,
   "id": "80705f41-0e95-4e63-801c-1bee0180cd54",
   "metadata": {},
   "outputs": [],
   "source": [
    "def pk2(*a):\n",
    "    L = []\n",
    "    for i in a:\n",
    "        if primeQ(i):\n",
    "            L.append(i)\n",
    "    return L"
   ]
  },
  {
   "cell_type": "code",
   "execution_count": 111,
   "id": "945e181e-1d90-4a29-abeb-11cdea0ad30a",
   "metadata": {},
   "outputs": [
    {
     "data": {
      "text/plain": [
       "[27364439, 17, 3, 5]"
      ]
     },
     "execution_count": 111,
     "metadata": {},
     "output_type": "execute_result"
    }
   ],
   "source": [
    "pk2(4, 16, 34, 4, 6, 9, 27364439, 17, 18, 3, 5)"
   ]
  },
  {
   "cell_type": "code",
   "execution_count": 113,
   "id": "4f37404b-d934-450e-9380-44e7a0a71663",
   "metadata": {},
   "outputs": [],
   "source": [
    "def pk3(*a):\n",
    "    L = list(a)\n",
    "    for i in a:\n",
    "        if primeQ(i):\n",
    "            continue\n",
    "        else: L.remove(i)\n",
    "    return L"
   ]
  },
  {
   "cell_type": "code",
   "execution_count": 115,
   "id": "a3a5414b-c0d4-45ff-992c-d66a878aa425",
   "metadata": {},
   "outputs": [
    {
     "data": {
      "text/plain": [
       "[27364439, 17, 3, 5]"
      ]
     },
     "execution_count": 115,
     "metadata": {},
     "output_type": "execute_result"
    }
   ],
   "source": [
    "pk3(4, 16, 34, 4, 6, 9, 27364439, 17, 18, 3, 5)"
   ]
  },
  {
   "cell_type": "code",
   "execution_count": 117,
   "id": "5296e800-e384-4b89-93e0-6f1304f2e02e",
   "metadata": {},
   "outputs": [],
   "source": [
    "def pk4(*a):\n",
    "    L=list(a)\n",
    "    for i in a:\n",
    "        if not primeQ(i):\n",
    "            L.remove(i)\n",
    "    return L"
   ]
  },
  {
   "cell_type": "code",
   "execution_count": 119,
   "id": "0cd89abe-ce0c-4e6c-8da1-919f347d8303",
   "metadata": {},
   "outputs": [
    {
     "data": {
      "text/plain": [
       "[27364439, 17, 3, 5]"
      ]
     },
     "execution_count": 119,
     "metadata": {},
     "output_type": "execute_result"
    }
   ],
   "source": [
    "pk4(4, 16, 34, 4, 6, 9, 27364439, 17, 18, 3, 5)"
   ]
  },
  {
   "cell_type": "markdown",
   "id": "d0193b97-f945-470d-8017-949d6f0a9265",
   "metadata": {},
   "source": [
    "Write a code to receive a sequence of names and pick the ones that starts with 'n' or 'N'"
   ]
  },
  {
   "cell_type": "code",
   "execution_count": 140,
   "id": "cb1f235d-4bc5-439e-8427-df22c9eb3d00",
   "metadata": {},
   "outputs": [],
   "source": [
    "def names(*words):\n",
    "    L =[]\n",
    "    for word in words:\n",
    "        if word[0].lower()=='n':\n",
    "            L.append(word)\n",
    "    return L"
   ]
  },
  {
   "cell_type": "code",
   "execution_count": 146,
   "id": "fc01b85f-b53b-4dac-acb6-8bc53e5c26c6",
   "metadata": {},
   "outputs": [
    {
     "data": {
      "text/plain": [
       "['nippon', 'Narmak']"
      ]
     },
     "execution_count": 146,
     "metadata": {},
     "output_type": "execute_result"
    }
   ],
   "source": [
    "names('western sydney', 'nippon', 'parramatta', 'Narmak', 'CBD')"
   ]
  },
  {
   "cell_type": "code",
   "execution_count": 148,
   "id": "315c7539-6808-40ca-8004-3f60b98f063f",
   "metadata": {},
   "outputs": [
    {
     "name": "stdout",
     "output_type": "stream",
     "text": [
      "nathan\n",
      "natalie\n"
     ]
    }
   ],
   "source": [
    "def names(*args):\n",
    "  \n",
    "    for name in args:\n",
    "      if name.startswith('n') or name.startswith('N'):\n",
    "        print(name)\n",
    "\n",
    "    return \n",
    "\n",
    "    \n",
    "names('daniel', 'nathan', 'natalie', 'ezekiel')"
   ]
  },
  {
   "cell_type": "code",
   "execution_count": 150,
   "id": "ed643d21-0536-41ee-bf62-2763bcdef9a2",
   "metadata": {},
   "outputs": [
    {
     "data": {
      "text/plain": [
       "['nigel', 'Nora']"
      ]
     },
     "execution_count": 150,
     "metadata": {},
     "output_type": "execute_result"
    }
   ],
   "source": [
    "def the_N_people(*a):\n",
    "    n_people=[]\n",
    "    for n in a:\n",
    "        if n[0]=='n' or n[0]=='N':\n",
    "            n_people.append(n)\n",
    "    return n_people\n",
    "\n",
    "the_N_people('nigel','Nora','Winslow')"
   ]
  },
  {
   "cell_type": "markdown",
   "id": "d81e18ed-f7ae-4295-8e3b-31b792b2f7f2",
   "metadata": {},
   "source": [
    "Write a code to pick up all the words which starts with 'na' or 'Na' or 'nA' or 'NA'"
   ]
  },
  {
   "cell_type": "code",
   "execution_count": 171,
   "id": "46960c92-edea-41a7-9c56-cb9b9fd4ce53",
   "metadata": {},
   "outputs": [],
   "source": [
    "def names(*words):\n",
    "    L =[]\n",
    "    for word in words:\n",
    "        if word[0:2].lower() == 'na':\n",
    "            L.append(word)\n",
    "    return L"
   ]
  },
  {
   "cell_type": "code",
   "execution_count": 173,
   "id": "93a67b52-7eae-4bde-9716-1c802879f249",
   "metadata": {},
   "outputs": [
    {
     "data": {
      "text/plain": [
       "['Narmak']"
      ]
     },
     "execution_count": 173,
     "metadata": {},
     "output_type": "execute_result"
    }
   ],
   "source": [
    "names('western sydney', 'nippon', 'parramatta', 'Narmak', 'CBD')"
   ]
  },
  {
   "cell_type": "code",
   "execution_count": 175,
   "id": "8b288c4d-1b2b-4a47-9d68-01bf8ce2eb48",
   "metadata": {},
   "outputs": [
    {
     "data": {
      "text/plain": [
       "['natalie', 'nAtalie', 'NA', 'Natalie']"
      ]
     },
     "execution_count": 175,
     "metadata": {},
     "output_type": "execute_result"
    }
   ],
   "source": [
    "def pickna(*words):\n",
    "    getna=[]\n",
    "    for i in words:\n",
    "        if i.startswith(\"na\") or i.startswith('NA') or i.startswith(\"nA\") or i.startswith(\"Na\"):\n",
    "            getna.append(i)\n",
    "    return getna\n",
    "\n",
    "pickna('natalie', 'no', 'nAtalie', 'NA','n', 'Natalie')"
   ]
  },
  {
   "cell_type": "code",
   "execution_count": 179,
   "id": "59d0aecd-f69e-4abe-8091-d539b47f5b86",
   "metadata": {},
   "outputs": [
    {
     "name": "stdout",
     "output_type": "stream",
     "text": [
      "['nap', 'NaP', 'nAp', 'NAture', 'NAme']\n"
     ]
    }
   ],
   "source": [
    "def filter_words(*args):\n",
    "    result = [word for word in args if word.startswith(('na', 'Na', 'nA', 'NA'))]\n",
    "    return result\n",
    "filtered_words = filter_words('nap', 'NaP', 'nAp', 'NAture', 'apple', 'NAme')\n",
    "print(filtered_words)"
   ]
  },
  {
   "cell_type": "code",
   "execution_count": 256,
   "id": "feb21621-86c7-43ad-aa8a-403eb67608be",
   "metadata": {},
   "outputs": [],
   "source": [
    "text = \"Napoleon Bonaparte (born Napoleone di Buonaparte;[1][b] 15 August 1769 – 5 May 1821), later known by his regnal name Napoleon I, was a French military officer and statesman who rose to prominence during the French Revolution and led a series of successful campaigns across Europe during the French Revolutionary and Napoleonic Wars from 1796 to 1815. He was the leader of the French Republic as First Consul from 1799 to 1804, then of the French Empire as Emperor of the French from 1804 to 1814, and briefly again in 1815\""
   ]
  },
  {
   "cell_type": "code",
   "execution_count": 258,
   "id": "39f0a494-c78e-4dfd-ba8d-473b26540161",
   "metadata": {},
   "outputs": [
    {
     "data": {
      "text/plain": [
       "'Napoleon Bonaparte (born Napoleone di Buonaparte;[1][b] 15 August 1769 – 5 May 1821), later known by his regnal name Napoleon I, was a French military officer and statesman who rose to prominence during the French Revolution and led a series of successful campaigns across Europe during the French Revolutionary and Napoleonic Wars from 1796 to 1815. He was the leader of the French Republic as First Consul from 1799 to 1804, then of the French Empire as Emperor of the French from 1804 to 1814, and briefly again in 1815'"
      ]
     },
     "execution_count": 258,
     "metadata": {},
     "output_type": "execute_result"
    }
   ],
   "source": [
    "text"
   ]
  },
  {
   "cell_type": "markdown",
   "id": "d015aee3-13b7-4191-a320-d8e1f004c260",
   "metadata": {},
   "source": [
    "Go through the text, anywhere you see Napoleon replace it with XXXXX"
   ]
  },
  {
   "cell_type": "code",
   "execution_count": 238,
   "id": "dbd1461d-f7b7-4a76-84f9-fa4391649019",
   "metadata": {},
   "outputs": [
    {
     "data": {
      "text/plain": [
       "522"
      ]
     },
     "execution_count": 238,
     "metadata": {},
     "output_type": "execute_result"
    }
   ],
   "source": [
    "len(text)"
   ]
  },
  {
   "cell_type": "code",
   "execution_count": 218,
   "id": "1817b083-15fb-4e40-940d-e5ce99b6677b",
   "metadata": {},
   "outputs": [
    {
     "data": {
      "text/plain": [
       "'N'"
      ]
     },
     "execution_count": 218,
     "metadata": {},
     "output_type": "execute_result"
    }
   ],
   "source": [
    "text[0]"
   ]
  },
  {
   "cell_type": "code",
   "execution_count": 262,
   "id": "10776c41-000c-4ee5-b591-fe619eed6306",
   "metadata": {},
   "outputs": [],
   "source": [
    "text = text.split()"
   ]
  },
  {
   "cell_type": "code",
   "execution_count": 246,
   "id": "2489c69d-e39b-4ff9-a75e-88fd24fc04b0",
   "metadata": {},
   "outputs": [
    {
     "data": {
      "text/plain": [
       "'Napoleon'"
      ]
     },
     "execution_count": 246,
     "metadata": {},
     "output_type": "execute_result"
    }
   ],
   "source": [
    "text[0]"
   ]
  },
  {
   "cell_type": "code",
   "execution_count": 248,
   "id": "da574542-d75c-4c04-b8cb-f5b22f072fbb",
   "metadata": {},
   "outputs": [
    {
     "name": "stdout",
     "output_type": "stream",
     "text": [
      "['XXXXXX', 'Bonaparte', '(born', 'Napoleone', 'di', 'Buonaparte;[1][b]', '15', 'August', '1769', '–', '5', 'May', '1821),', 'later', 'known', 'by', 'his', 'regnal', 'name', 'XXXXXX', 'I,', 'was', 'a', 'French', 'military', 'officer', 'and', 'statesman', 'who', 'rose', 'to', 'prominence', 'during', 'the', 'French', 'Revolution', 'and', 'led', 'a', 'series', 'of', 'successful', 'campaigns', 'across', 'Europe', 'during', 'the', 'French', 'Revolutionary', 'and', 'Napoleonic', 'Wars', 'from', '1796', 'to', '1815.', 'He', 'was', 'the', 'leader', 'of', 'the', 'French', 'Republic', 'as', 'First', 'Consul', 'from', '1799', 'to', '1804,', 'then', 'of', 'the', 'French', 'Empire', 'as', 'Emperor', 'of', 'the', 'French', 'from', '1804', 'to', '1814,', 'and', 'briefly', 'again', 'in', '1815']\n"
     ]
    }
   ],
   "source": [
    "for i in range(len(text)):\n",
    "    if text[i] == 'Napoleon':\n",
    "        text[i]= 'XXXXXX'\n",
    "print(text)"
   ]
  },
  {
   "cell_type": "code",
   "execution_count": 260,
   "id": "14e1c2d0-0e40-4f05-84b0-478009613b4f",
   "metadata": {},
   "outputs": [
    {
     "name": "stdout",
     "output_type": "stream",
     "text": [
      "XXXXXX Bonaparte (born XXXXXXe di Buonaparte;[1][b] 15 August 1769 – 5 May 1821), later known by his regnal name XXXXXX I, was a French military officer and statesman who rose to prominence during the French Revolution and led a series of successful campaigns across Europe during the French Revolutionary and XXXXXXic Wars from 1796 to 1815. He was the leader of the French Republic as First Consul from 1799 to 1804, then of the French Empire as Emperor of the French from 1804 to 1814, and briefly again in 1815\n"
     ]
    }
   ],
   "source": [
    "new_text = text.replace(\"Napoleon\",\"XXXXXX\")\n",
    "print(new_text)"
   ]
  },
  {
   "cell_type": "code",
   "execution_count": 264,
   "id": "29d3644f-6733-4e3c-bfc9-18879247121f",
   "metadata": {},
   "outputs": [
    {
     "name": "stdout",
     "output_type": "stream",
     "text": [
      "['xxxxx', 'Bonaparte', '(born', 'Napoleone', 'di', 'Buonaparte;[1][b]', '15', 'August', '1769', '–', '5', 'May', '1821),', 'later', 'known', 'by', 'his', 'regnal', 'name', 'xxxxx', 'I,', 'was', 'a', 'French', 'military', 'officer', 'and', 'statesman', 'who', 'rose', 'to', 'prominence', 'during', 'the', 'French', 'Revolution', 'and', 'led', 'a', 'series', 'of', 'successful', 'campaigns', 'across', 'Europe', 'during', 'the', 'French', 'Revolutionary', 'and', 'Napoleonic', 'Wars', 'from', '1796', 'to', '1815.', 'He', 'was', 'the', 'leader', 'of', 'the', 'French', 'Republic', 'as', 'First', 'Consul', 'from', '1799', 'to', '1804,', 'then', 'of', 'the', 'French', 'Empire', 'as', 'Emperor', 'of', 'the', 'French', 'from', '1804', 'to', '1814,', 'and', 'briefly', 'again', 'in', '1815']\n"
     ]
    }
   ],
   "source": [
    "def hideWord(text, wordToHide):\n",
    "    newText = []\n",
    "    for word in text:\n",
    "        if(word.lower() == wordToHide.lower()):\n",
    "            newText.append(\"xxxxx\")\n",
    "        else:\n",
    "            newText.append(word)\n",
    "    return newText\n",
    "    \n",
    "print(hideWord(text, \"Napoleon\"))"
   ]
  },
  {
   "cell_type": "code",
   "execution_count": null,
   "id": "e550810c-2382-4de7-be29-7d15f99af6be",
   "metadata": {},
   "outputs": [],
   "source": []
  }
 ],
 "metadata": {
  "kernelspec": {
   "display_name": "anaconda-panel-2023.05-py310",
   "language": "python",
   "name": "conda-env-anaconda-panel-2023.05-py310-py"
  },
  "language_info": {
   "codemirror_mode": {
    "name": "ipython",
    "version": 3
   },
   "file_extension": ".py",
   "mimetype": "text/x-python",
   "name": "python",
   "nbconvert_exporter": "python",
   "pygments_lexer": "ipython3",
   "version": "3.11.5"
  }
 },
 "nbformat": 4,
 "nbformat_minor": 5
}
