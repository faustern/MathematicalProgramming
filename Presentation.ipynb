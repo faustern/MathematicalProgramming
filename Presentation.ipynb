{
 "cells": [
  {
   "cell_type": "markdown",
   "id": "d895432a-df9d-4d53-b5ce-19eec1871ad4",
   "metadata": {},
   "source": [
    "# Chapter 3 Problem 13\n",
    "The formula $e_{41} = n^2 + n + 41$ produces prime numbers for $0 ≤ n ≤ 39$ but not for\n",
    "$n$ = 40. Check that for no $i$ between 1 and 10000 does the formula $e_{i} = n^2 + n + i$\n",
    "produce prime numbers for a larger interval starting at $n = 0$"
   ]
  },
  {
   "cell_type": "code",
   "execution_count": 1,
   "id": "6a9e6d07-b2fd-445a-92e5-b1159e87da2b",
   "metadata": {},
   "outputs": [],
   "source": [
    "import sympy\n",
    "import math"
   ]
  },
  {
   "cell_type": "markdown",
   "id": "8bde4ae6-9a40-4ce3-92d4-87aed09f1e23",
   "metadata": {},
   "source": [
    "### Consider the formula $e_{41} = n^2 + n + 41$ always produces prime numbers for $0 ≤ n ≤ 39$"
   ]
  },
  {
   "cell_type": "code",
   "execution_count": 7,
   "id": "dc97b31a-da06-4138-90cf-f8eeb483f024",
   "metadata": {},
   "outputs": [
    {
     "name": "stdout",
     "output_type": "stream",
     "text": [
      "n =0-> e = 41 (prime)\n",
      "n =1-> e = 43 (prime)\n",
      "n =2-> e = 47 (prime)\n",
      "n =3-> e = 53 (prime)\n",
      "n =4-> e = 61 (prime)\n",
      "n =5-> e = 71 (prime)\n",
      "n =6-> e = 83 (prime)\n",
      "n =7-> e = 97 (prime)\n",
      "n =8-> e = 113 (prime)\n",
      "n =9-> e = 131 (prime)\n",
      "n =10-> e = 151 (prime)\n",
      "n =11-> e = 173 (prime)\n",
      "n =12-> e = 197 (prime)\n",
      "n =13-> e = 223 (prime)\n",
      "n =14-> e = 251 (prime)\n",
      "n =15-> e = 281 (prime)\n",
      "n =16-> e = 313 (prime)\n",
      "n =17-> e = 347 (prime)\n",
      "n =18-> e = 383 (prime)\n",
      "n =19-> e = 421 (prime)\n",
      "n =20-> e = 461 (prime)\n",
      "n =21-> e = 503 (prime)\n",
      "n =22-> e = 547 (prime)\n",
      "n =23-> e = 593 (prime)\n",
      "n =24-> e = 641 (prime)\n",
      "n =25-> e = 691 (prime)\n",
      "n =26-> e = 743 (prime)\n",
      "n =27-> e = 797 (prime)\n",
      "n =28-> e = 853 (prime)\n",
      "n =29-> e = 911 (prime)\n",
      "n =30-> e = 971 (prime)\n",
      "n =31-> e = 1033 (prime)\n",
      "n =32-> e = 1097 (prime)\n",
      "n =33-> e = 1163 (prime)\n",
      "n =34-> e = 1231 (prime)\n",
      "n =35-> e = 1301 (prime)\n",
      "n =36-> e = 1373 (prime)\n",
      "n =37-> e = 1447 (prime)\n",
      "n =38-> e = 1523 (prime)\n",
      "n =39-> e = 1601 (prime)\n"
     ]
    }
   ],
   "source": [
    "for n in range (0, 40):\n",
    "    e = n**2 + n + 41\n",
    "    if sympy.isprime(e):\n",
    "        print(f'n ={n}-> e = {e} (prime)')\n",
    "    else:\n",
    "        print(f'n ={n}-> e = {e} (not prime)')"
   ]
  },
  {
   "cell_type": "markdown",
   "id": "a49fc2fa-b443-4978-b3fe-9a4e54b69673",
   "metadata": {},
   "source": [
    "### Replace i = 41 with a different number"
   ]
  },
  {
   "cell_type": "code",
   "execution_count": null,
   "id": "b1b03f12-9f42-4c08-9d65-d7e499f37a11",
   "metadata": {},
   "outputs": [],
   "source": [
    "i = int(input('Enter a number: '))\n",
    "for n in range (0, 39):\n",
    "    e = n**2 + n + i\n",
    "    if sympy.isprime(e):\n",
    "        print(f'n ={n}-> e = {e} (prime)')\n",
    "    else:\n",
    "        print(f'n ={n}-> e = {e} (not prime)')"
   ]
  },
  {
   "cell_type": "markdown",
   "id": "57c3ebda-a757-4fc6-b19a-87ee49cdb7a3",
   "metadata": {},
   "source": [
    "##### -> 41 is the number that with $0 ≤ n ≤ 39$ all e are prime\n",
    "#### any other number -> have less prime numbers"
   ]
  },
  {
   "cell_type": "markdown",
   "id": "9198406a-95e7-4b51-b42a-cf1d593bd61a",
   "metadata": {},
   "source": [
    "### Check this for $1 ≤ i ≤ 10000$"
   ]
  },
  {
   "cell_type": "code",
   "execution_count": 29,
   "id": "eabbb012-9c94-4769-9737-432c791ceb92",
   "metadata": {},
   "outputs": [
    {
     "name": "stdout",
     "output_type": "stream",
     "text": [
      "numbers that all e are prime: [41]\n"
     ]
    }
   ],
   "source": [
    "x = []\n",
    "\n",
    "for i in range(1, 10001):\n",
    "    for n in range(0, 40):\n",
    "        e = n**2 + n + i\n",
    "        if not sympy.isprime(e):\n",
    "            break\n",
    "    else:\n",
    "        x.append(i)\n",
    "print('numbers that all e are prime:', x)"
   ]
  },
  {
   "cell_type": "markdown",
   "id": "92aed52d-e2ee-427e-8d25-2db9a397683d",
   "metadata": {},
   "source": [
    "the $else$ (attached to the loop) execute <-> the loop completes normally"
   ]
  },
  {
   "cell_type": "markdown",
   "id": "4259bb24-3d19-4290-ab4c-db775029796a",
   "metadata": {},
   "source": [
    "the loop exit via $break$ -> $else$ will be skipped"
   ]
  },
  {
   "cell_type": "markdown",
   "id": "e23b0338-8605-42e1-94cb-5fe8dc803751",
   "metadata": {},
   "source": [
    "If any e in the inner loop is not prime, $break$ is triggered, skipping the $else$ and preventing $i$ from being added to $x$"
   ]
  },
  {
   "cell_type": "markdown",
   "id": "c95ec920-14e2-404a-8d9a-0969d20d14c3",
   "metadata": {},
   "source": [
    "If the loop completes without hitting $break$, the $else$ block adds $i$ to $x$"
   ]
  },
  {
   "cell_type": "code",
   "execution_count": null,
   "id": "0d57657c-ef3a-4e5b-a6f5-45cc037c9c74",
   "metadata": {},
   "outputs": [],
   "source": []
  }
 ],
 "metadata": {
  "kernelspec": {
   "display_name": "anaconda-panel-2023.05-py310",
   "language": "python",
   "name": "conda-env-anaconda-panel-2023.05-py310-py"
  },
  "language_info": {
   "codemirror_mode": {
    "name": "ipython",
    "version": 3
   },
   "file_extension": ".py",
   "mimetype": "text/x-python",
   "name": "python",
   "nbconvert_exporter": "python",
   "pygments_lexer": "ipython3",
   "version": "3.11.5"
  }
 },
 "nbformat": 4,
 "nbformat_minor": 5
}
