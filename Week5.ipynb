{
 "cells": [
  {
   "cell_type": "markdown",
   "id": "bfb89869-5a0e-4585-926b-10ddc79ab615",
   "metadata": {},
   "source": [
    "## Defining functions in Python"
   ]
  },
  {
   "cell_type": "markdown",
   "id": "6c8ee310-392a-4690-a64b-fc8a4e743474",
   "metadata": {},
   "source": [
    "$p(n) = n(n=1)(n+2)(n+3) +1$ this function always produces squared number... can you write a function in python to produce these numbers"
   ]
  },
  {
   "cell_type": "code",
   "execution_count": 13,
   "id": "afb32b2c-c2be-4a8a-a36a-f9030178dff8",
   "metadata": {},
   "outputs": [],
   "source": [
    "import math"
   ]
  },
  {
   "cell_type": "code",
   "execution_count": 10,
   "id": "622851f6-57d2-424f-b244-9a4510e6f6fb",
   "metadata": {},
   "outputs": [
    {
     "data": {
      "text/plain": [
       "1681"
      ]
     },
     "execution_count": 10,
     "metadata": {},
     "output_type": "execute_result"
    }
   ],
   "source": [
    "def p(n):\n",
    "    return n*(n+1)*(n+2)*(n+3)+1\n",
    "\n",
    "p(5)"
   ]
  },
  {
   "cell_type": "code",
   "execution_count": 15,
   "id": "c8fbe30d-b5f3-4d80-9f84-2b08d655d8f6",
   "metadata": {},
   "outputs": [
    {
     "data": {
      "text/plain": [
       "41.0"
      ]
     },
     "execution_count": 15,
     "metadata": {},
     "output_type": "execute_result"
    }
   ],
   "source": [
    "math.sqrt(1681)"
   ]
  },
  {
   "cell_type": "code",
   "execution_count": 17,
   "id": "0f65d51c-7ce9-4732-ad3a-7e6b57bb3a55",
   "metadata": {},
   "outputs": [
    {
     "data": {
      "text/plain": [
       "1681"
      ]
     },
     "execution_count": 17,
     "metadata": {},
     "output_type": "execute_result"
    }
   ],
   "source": [
    "41*41"
   ]
  },
  {
   "cell_type": "code",
   "execution_count": 21,
   "id": "93edb9a8-6e05-45b5-8b6f-060bdb7e63e5",
   "metadata": {},
   "outputs": [
    {
     "name": "stdout",
     "output_type": "stream",
     "text": [
      "25   5\n",
      "121   11\n",
      "361   19\n",
      "841   29\n",
      "1681   41\n",
      "3025   55\n",
      "5041   71\n",
      "7921   89\n",
      "11881   109\n",
      "17161   131\n",
      "24025   155\n",
      "32761   181\n",
      "43681   209\n",
      "57121   239\n",
      "73441   271\n"
     ]
    }
   ],
   "source": [
    "for i in range(1,16):\n",
    "    print(p(i),' ', int(math.sqrt(p(i))))"
   ]
  },
  {
   "cell_type": "markdown",
   "id": "79773d4f-a442-41b7-bf8d-dc15a28ebbe3",
   "metadata": {},
   "source": [
    "Write a function $$ep(n)=1 + \\frac{1}{1!}+\\frac{1}{2!}+\\dots+\\frac{1}{n!}$$"
   ]
  },
  {
   "cell_type": "markdown",
   "id": "a718d5b7-0554-408b-a250-f1bd21eda8a5",
   "metadata": {},
   "source": [
    "$n! = 1\\times 2\\times 3\\times \\dots \\times n$"
   ]
  },
  {
   "cell_type": "code",
   "execution_count": 29,
   "id": "3b52cd25-4433-412c-96d2-125bb1e24747",
   "metadata": {},
   "outputs": [],
   "source": [
    "import math\n",
    "\n",
    "def ep(n):\n",
    "    result = 1.0  # Start with the first term, which is 1\n",
    "    for i in range(1, n + 1):\n",
    "        result += 1 / math.factorial(i)\n",
    "    return result"
   ]
  },
  {
   "cell_type": "code",
   "execution_count": 31,
   "id": "8d8060e3-8b6c-4c9e-91c2-15b88f9642ce",
   "metadata": {},
   "outputs": [
    {
     "data": {
      "text/plain": [
       "2.7182818284590455"
      ]
     },
     "execution_count": 31,
     "metadata": {},
     "output_type": "execute_result"
    }
   ],
   "source": [
    "ep(100)"
   ]
  },
  {
   "cell_type": "markdown",
   "id": "6ed41254-4720-4b38-8029-b0b217001436",
   "metadata": {},
   "source": [
    "The series $ep$ converges to 2.7 which is 1 + e where e is the exponential number"
   ]
  },
  {
   "cell_type": "code",
   "execution_count": 40,
   "id": "1c57763c-e93b-4463-b247-925bcff45cc3",
   "metadata": {},
   "outputs": [],
   "source": [
    "def ep2(n):\n",
    "    x = 1\n",
    "    for i in range(1,n+1):\n",
    "        x += 1/(math.factorial(i))\n",
    "    x = round(x, 5)\n",
    "    return x"
   ]
  },
  {
   "cell_type": "code",
   "execution_count": 42,
   "id": "b61bd5b8-f983-411a-8010-ffc7a1264957",
   "metadata": {},
   "outputs": [
    {
     "data": {
      "text/plain": [
       "2.71828"
      ]
     },
     "execution_count": 42,
     "metadata": {},
     "output_type": "execute_result"
    }
   ],
   "source": [
    "ep2(10)"
   ]
  },
  {
   "cell_type": "code",
   "execution_count": 44,
   "id": "0998f7bf-3b05-431d-b762-a229ec8fe239",
   "metadata": {},
   "outputs": [
    {
     "data": {
      "text/plain": [
       "2.71828"
      ]
     },
     "execution_count": 44,
     "metadata": {},
     "output_type": "execute_result"
    }
   ],
   "source": [
    "ep2(100)"
   ]
  },
  {
   "cell_type": "markdown",
   "id": "1b720841-3fb4-4963-8416-25305a87321b",
   "metadata": {},
   "source": [
    "## Exercise.. write a function to calculate the series\n",
    "$$s(n)=\\frac{1}{1}+\\frac{1}{1+2}+...+\\frac{1}{1+2+...+n}$$\n"
   ]
  },
  {
   "cell_type": "code",
   "execution_count": 73,
   "id": "001eb46f-34bb-4a5a-b774-b182e3f8883e",
   "metadata": {},
   "outputs": [],
   "source": [
    "def ep3(n):\n",
    "    x = 1\n",
    "    for i in range(1, n+1):\n",
    "        x += 1/sum(range(1,i+1))\n",
    "    return x"
   ]
  },
  {
   "cell_type": "code",
   "execution_count": 77,
   "id": "fa94eaf3-7e95-4f92-bc81-2c28f0c117f5",
   "metadata": {},
   "outputs": [
    {
     "data": {
      "text/plain": [
       "2.7142857142857144"
      ]
     },
     "execution_count": 77,
     "metadata": {},
     "output_type": "execute_result"
    }
   ],
   "source": [
    "ep3(6)"
   ]
  },
  {
   "cell_type": "code",
   "execution_count": 63,
   "id": "3847c4ec-2690-4133-9bb6-75432e2631ad",
   "metadata": {},
   "outputs": [
    {
     "data": {
      "text/plain": [
       "2.7142857142857144"
      ]
     },
     "execution_count": 63,
     "metadata": {},
     "output_type": "execute_result"
    }
   ],
   "source": [
    "def s(n):\n",
    "    result = 1.0\n",
    "    for i in range(1, n + 1):\n",
    "        result += 1 / sum(range(1,i+1))\n",
    "    \n",
    "    return result\n",
    "\n",
    "s(6)"
   ]
  },
  {
   "cell_type": "markdown",
   "id": "e08d368b-78c5-46ec-b105-f12e1ba755f6",
   "metadata": {},
   "source": [
    "## Continue with functions"
   ]
  },
  {
   "cell_type": "code",
   "execution_count": 80,
   "id": "8d6bd857-490b-4893-b800-13004e908016",
   "metadata": {},
   "outputs": [],
   "source": [
    "def f(x):\n",
    "    return x*3"
   ]
  },
  {
   "cell_type": "code",
   "execution_count": 82,
   "id": "a9bd7065-f3bd-48cc-b282-059c9f8b9e5b",
   "metadata": {},
   "outputs": [
    {
     "data": {
      "text/plain": [
       "36"
      ]
     },
     "execution_count": 82,
     "metadata": {},
     "output_type": "execute_result"
    }
   ],
   "source": [
    "f(12)"
   ]
  },
  {
   "cell_type": "code",
   "execution_count": 84,
   "id": "364a9ebb-f4d8-4c3d-9ffb-8b86bcb5d3ae",
   "metadata": {},
   "outputs": [
    {
     "data": {
      "text/plain": [
       "'test test test '"
      ]
     },
     "execution_count": 84,
     "metadata": {},
     "output_type": "execute_result"
    }
   ],
   "source": [
    "f('test ')"
   ]
  },
  {
   "cell_type": "code",
   "execution_count": 86,
   "id": "c88f76d7-fb8f-4c64-958b-d2cb2d055b7d",
   "metadata": {},
   "outputs": [
    {
     "data": {
      "text/plain": [
       "3.9000000000000004"
      ]
     },
     "execution_count": 86,
     "metadata": {},
     "output_type": "execute_result"
    }
   ],
   "source": [
    "f(1.3)"
   ]
  },
  {
   "cell_type": "code",
   "execution_count": 88,
   "id": "0292f4f5-713f-48a8-a936-70211f0fa1dc",
   "metadata": {},
   "outputs": [
    {
     "ename": "TypeError",
     "evalue": "f() takes 1 positional argument but 2 were given",
     "output_type": "error",
     "traceback": [
      "\u001b[0;31m---------------------------------------------------------------------------\u001b[0m",
      "\u001b[0;31mTypeError\u001b[0m                                 Traceback (most recent call last)",
      "Cell \u001b[0;32mIn[88], line 1\u001b[0m\n\u001b[0;32m----> 1\u001b[0m f(\u001b[38;5;241m2\u001b[39m, \u001b[38;5;241m4\u001b[39m)\n",
      "\u001b[0;31mTypeError\u001b[0m: f() takes 1 positional argument but 2 were given"
     ]
    }
   ],
   "source": [
    "f(2, 4)"
   ]
  },
  {
   "cell_type": "markdown",
   "id": "f65cf344-1e24-413e-95ba-7b1728372a0f",
   "metadata": {},
   "source": [
    "Define a function $f(x, y) = x^2 + y^2$"
   ]
  },
  {
   "cell_type": "code",
   "execution_count": 91,
   "id": "1ade45e3-5ed9-45b3-86e2-70782857c786",
   "metadata": {},
   "outputs": [],
   "source": [
    "def f(x, y):\n",
    "    return x**2 + y**2"
   ]
  },
  {
   "cell_type": "code",
   "execution_count": 93,
   "id": "698a241f-133d-421f-b67b-98b2994cddea",
   "metadata": {},
   "outputs": [
    {
     "data": {
      "text/plain": [
       "673"
      ]
     },
     "execution_count": 93,
     "metadata": {},
     "output_type": "execute_result"
    }
   ],
   "source": [
    "f(12, 23)"
   ]
  },
  {
   "cell_type": "code",
   "execution_count": 95,
   "id": "e759a757-b2ef-4c17-bafd-d4f2dc154bb7",
   "metadata": {},
   "outputs": [
    {
     "ename": "TypeError",
     "evalue": "f() takes 2 positional arguments but 3 were given",
     "output_type": "error",
     "traceback": [
      "\u001b[0;31m---------------------------------------------------------------------------\u001b[0m",
      "\u001b[0;31mTypeError\u001b[0m                                 Traceback (most recent call last)",
      "Cell \u001b[0;32mIn[95], line 1\u001b[0m\n\u001b[0;32m----> 1\u001b[0m f(\u001b[38;5;241m1\u001b[39m,\u001b[38;5;241m3\u001b[39m,\u001b[38;5;241m4\u001b[39m)\n",
      "\u001b[0;31mTypeError\u001b[0m: f() takes 2 positional arguments but 3 were given"
     ]
    }
   ],
   "source": [
    "f(1,3,4)"
   ]
  },
  {
   "cell_type": "markdown",
   "id": "36dce426-3699-44f4-ae0b-3ed401e19948",
   "metadata": {},
   "source": [
    "Exercise: write a function `decom(n,p)` and it returns to accept a number $n$ and a prime number p and it returns the decomposition $$n=p^k s$$"
   ]
  },
  {
   "cell_type": "markdown",
   "id": "1cfdbc64-8843-4ba5-ae22-0bdfaf0eb72f",
   "metadata": {},
   "source": [
    "##Fundamental theorem of number theory\n",
    "any number can be decomposed in a **unique** way as the product of primes\n",
    "\n",
    "$$n = p_1^(k_1) p_2^(k_2) \\times \\dots \\times p_n^(k_n)$$ where $p_i^i s$ are prime"
   ]
  },
  {
   "cell_type": "code",
   "execution_count": 103,
   "id": "a7543bbb-b536-4ce5-9d47-21d244b8a8f0",
   "metadata": {},
   "outputs": [
    {
     "data": {
      "text/plain": [
       "True"
      ]
     },
     "execution_count": 103,
     "metadata": {},
     "output_type": "execute_result"
    }
   ],
   "source": [
    "14 == 2*7"
   ]
  },
  {
   "cell_type": "code",
   "execution_count": 107,
   "id": "1da51f02-37b0-4a43-b2d5-265242a46f58",
   "metadata": {},
   "outputs": [
    {
     "data": {
      "text/plain": [
       "True"
      ]
     },
     "execution_count": 107,
     "metadata": {},
     "output_type": "execute_result"
    }
   ],
   "source": [
    "(2**3) * 29 == 232"
   ]
  },
  {
   "cell_type": "markdown",
   "id": "c791d19f-a073-4e1d-95cb-b7ec7ef8dcce",
   "metadata": {},
   "source": [
    "Therefore $232 = 2^3 \\times 29$"
   ]
  },
  {
   "cell_type": "markdown",
   "id": "7a8f9d5c-3b3f-425b-b4aa-05ccae735eb3",
   "metadata": {},
   "source": [
    "Exercise: write a function `decom(n,p)` and it returns to accept a number $n$ and a prime number p and it returns the decomposition $$n=p^k s$$"
   ]
  },
  {
   "cell_type": "code",
   "execution_count": 133,
   "id": "b6125f1b-8b65-48cd-910b-a5c7176789c4",
   "metadata": {},
   "outputs": [
    {
     "name": "stdin",
     "output_type": "stream",
     "text": [
      "enter an integer:  43243\n"
     ]
    },
    {
     "name": "stdout",
     "output_type": "stream",
     "text": [
      "43243 is of the form 5^0 X 43243\n"
     ]
    }
   ],
   "source": [
    "def decom(n, p):\n",
    "    k = 0\n",
    "    while n % p == 0:\n",
    "        k += 1\n",
    "        n = n//p\n",
    "    return n, k\n",
    "\n",
    "n = int(input('enter an integer: '))\n",
    "m, k = decom(n,5)\n",
    "\n",
    "print(f'{n} is of the form 5^{k} X {m}')"
   ]
  },
  {
   "cell_type": "code",
   "execution_count": 137,
   "id": "f7e35d48-c4ba-405e-8da8-ef086dff87f3",
   "metadata": {},
   "outputs": [],
   "source": [
    "def decom(n, p):\n",
    "    k = 0\n",
    "    while n % p == 0:\n",
    "        n //= p\n",
    "        k += 1\n",
    "    s = n\n",
    "    return k, s"
   ]
  },
  {
   "cell_type": "markdown",
   "id": "97413baa-7180-4778-879d-9123d757cfd1",
   "metadata": {},
   "source": [
    "## Anonymous  functions... Pure functions\n",
    "# FUNCTIONAL Programming"
   ]
  },
  {
   "cell_type": "code",
   "execution_count": 141,
   "id": "0fd99c77-e490-4e17-8a83-a9dc1cfe63e6",
   "metadata": {},
   "outputs": [],
   "source": [
    "def f(x):\n",
    "    return x**2"
   ]
  },
  {
   "cell_type": "code",
   "execution_count": 143,
   "id": "458b7ae5-dd24-46c8-a144-7a890159d9be",
   "metadata": {},
   "outputs": [
    {
     "data": {
      "text/plain": [
       "10000"
      ]
     },
     "execution_count": 143,
     "metadata": {},
     "output_type": "execute_result"
    }
   ],
   "source": [
    "f(100)"
   ]
  },
  {
   "cell_type": "code",
   "execution_count": 145,
   "id": "b663df8e-07cb-4674-b0ed-e2c7ff1c3ba9",
   "metadata": {},
   "outputs": [],
   "source": [
    "def here_it_is(x, y):\n",
    "    return x + y"
   ]
  },
  {
   "cell_type": "code",
   "execution_count": 147,
   "id": "2728eff9-a425-44d6-a64d-4882450f3085",
   "metadata": {},
   "outputs": [
    {
     "data": {
      "text/plain": [
       "27"
      ]
     },
     "execution_count": 147,
     "metadata": {},
     "output_type": "execute_result"
    }
   ],
   "source": [
    "here_it_is(12,15)"
   ]
  },
  {
   "cell_type": "code",
   "execution_count": 151,
   "id": "ea6e9efb-5062-4c41-b897-973ae10a624e",
   "metadata": {},
   "outputs": [
    {
     "data": {
      "text/plain": [
       "'Western Sydney'"
      ]
     },
     "execution_count": 151,
     "metadata": {},
     "output_type": "execute_result"
    }
   ],
   "source": [
    "here_it_is('Western',' Sydney')"
   ]
  },
  {
   "cell_type": "code",
   "execution_count": 155,
   "id": "8fe6e53b-6622-463b-8f1c-f84c9e14ae43",
   "metadata": {},
   "outputs": [
    {
     "data": {
      "text/plain": [
       "144"
      ]
     },
     "execution_count": 155,
     "metadata": {},
     "output_type": "execute_result"
    }
   ],
   "source": [
    "(lambda x : x**2)(12)"
   ]
  },
  {
   "cell_type": "code",
   "execution_count": 157,
   "id": "d562e803-b6e8-419d-b3b7-a4a9938f96ea",
   "metadata": {},
   "outputs": [
    {
     "data": {
      "text/plain": [
       "60"
      ]
     },
     "execution_count": 157,
     "metadata": {},
     "output_type": "execute_result"
    }
   ],
   "source": [
    "(lambda x : 5* x)(12)"
   ]
  },
  {
   "cell_type": "code",
   "execution_count": 161,
   "id": "f822f2dd-1498-4434-bdd2-dc5ecec0473e",
   "metadata": {},
   "outputs": [
    {
     "data": {
      "text/plain": [
       "'test test test test test '"
      ]
     },
     "execution_count": 161,
     "metadata": {},
     "output_type": "execute_result"
    }
   ],
   "source": [
    "(lambda x : 5* x)('test ')"
   ]
  },
  {
   "cell_type": "markdown",
   "id": "35e05bbb-3b01-42fb-b075-66f732a3d579",
   "metadata": {},
   "source": [
    "Continue with functions.. recursive functions"
   ]
  },
  {
   "cell_type": "markdown",
   "id": "cacf3d54-5d8a-44e6-bb0a-e17cb9194618",
   "metadata": {},
   "source": [
    "$$f(n) = n^2 + n + 1$$"
   ]
  },
  {
   "cell_type": "markdown",
   "id": "83e0d8ae-1bcc-4f46-9fc0-472bb931a37a",
   "metadata": {},
   "source": [
    "A recursive function calls itself.. such as $$g(n) = g(n-1) + g(n-2)$$ with initial values $g(0) = 0$ and $g(1) = 1$"
   ]
  },
  {
   "cell_type": "markdown",
   "id": "7e8fdd71-9334-4270-9c90-593084739771",
   "metadata": {},
   "source": [
    "$f(3) = 3^2+3+1$\n",
    "\n",
    "$g(3) = g(2) + g(1)$\n",
    "\n",
    "$g(4) = g(3) + g(2) = g(2) + g(1) + g(1) + g(0) = g(1) + g(0) + g(1) + g(1) + g(0) = 1 + 0 + 1 + 1 + 0 = 3$"
   ]
  },
  {
   "cell_type": "markdown",
   "id": "94b5e6d4-4eb0-43ba-ad43-680d8e93d702",
   "metadata": {},
   "source": [
    "Define the function $g: \\mathbb N \\rightarrow \\mathbb N$ with $$g(n) = g(n-1) + g(n-2)$$ with initial values $g(0) = 0$ and $g(1) = 1$"
   ]
  },
  {
   "cell_type": "markdown",
   "id": "0327177a-c0d5-44bf-9198-ef83e7ca17b4",
   "metadata": {},
   "source": [
    "g(1) = 0, g(2) = 1, g(3) = g(2) + g(1) = 1+0=1, g(4)=g(3) + g(2)= 1 + 1 = 2, g(5) = g(4)+g(3) = 2 + 1 = 3"
   ]
  },
  {
   "cell_type": "markdown",
   "id": "31a95c02-12e9-433c-899b-01bb5a0e84e6",
   "metadata": {},
   "source": [
    "$0, 1, 1, 2, 3, 4, 5, 8, \\dots$ this is called Fibonacci sequence"
   ]
  },
  {
   "cell_type": "code",
   "execution_count": 192,
   "id": "c4e8743d-f602-49a1-bb55-4a6737493fca",
   "metadata": {},
   "outputs": [],
   "source": [
    " def fib(n):\n",
    "    a, b =0 , 1\n",
    "    for i in range(n):\n",
    "        a, b = b, a + b\n",
    "    return a"
   ]
  },
  {
   "cell_type": "code",
   "execution_count": 194,
   "id": "5646c656-382f-4ff2-b739-7dc370436841",
   "metadata": {},
   "outputs": [
    {
     "data": {
      "text/plain": [
       "987"
      ]
     },
     "execution_count": 194,
     "metadata": {},
     "output_type": "execute_result"
    }
   ],
   "source": [
    "fib(16)"
   ]
  },
  {
   "cell_type": "markdown",
   "id": "42479ce7-3607-4633-bc8a-1902c7c73be5",
   "metadata": {},
   "source": [
    "## Default values in a function"
   ]
  },
  {
   "cell_type": "code",
   "execution_count": 197,
   "id": "8e033e85-a19f-4dc7-9f40-e92e527a2d1f",
   "metadata": {},
   "outputs": [],
   "source": [
    "def f(n, a, b):\n",
    "    print(f'n = {n}, a ={a}, b={b}')"
   ]
  },
  {
   "cell_type": "code",
   "execution_count": 199,
   "id": "a5473c94-9e0c-4c41-8506-820f715d097b",
   "metadata": {},
   "outputs": [
    {
     "name": "stdout",
     "output_type": "stream",
     "text": [
      "n = 12, a =3, b=test\n"
     ]
    }
   ],
   "source": [
    "f(12, 3, 'test')"
   ]
  },
  {
   "cell_type": "code",
   "execution_count": 201,
   "id": "135c2660-1789-44e2-a7d5-ab68d9fdf461",
   "metadata": {},
   "outputs": [
    {
     "ename": "TypeError",
     "evalue": "f() missing 1 required positional argument: 'b'",
     "output_type": "error",
     "traceback": [
      "\u001b[0;31m---------------------------------------------------------------------------\u001b[0m",
      "\u001b[0;31mTypeError\u001b[0m                                 Traceback (most recent call last)",
      "Cell \u001b[0;32mIn[201], line 1\u001b[0m\n\u001b[0;32m----> 1\u001b[0m f(\u001b[38;5;241m12\u001b[39m, \u001b[38;5;241m13\u001b[39m)\n",
      "\u001b[0;31mTypeError\u001b[0m: f() missing 1 required positional argument: 'b'"
     ]
    }
   ],
   "source": [
    "f(12, 13)"
   ]
  },
  {
   "cell_type": "code",
   "execution_count": 203,
   "id": "a0eae914-57e3-499c-9de9-0a501b32b432",
   "metadata": {},
   "outputs": [],
   "source": [
    "def f(n, a = 99, b = 10000):\n",
    "    print(f'n = {n}, a ={a}, b={b}')"
   ]
  },
  {
   "cell_type": "code",
   "execution_count": 205,
   "id": "f29a1514-9c22-4cbb-9db1-859cc00161cd",
   "metadata": {},
   "outputs": [
    {
     "name": "stdout",
     "output_type": "stream",
     "text": [
      "n = 1, a =4, b=6\n"
     ]
    }
   ],
   "source": [
    "f(1, 4, 6)"
   ]
  },
  {
   "cell_type": "code",
   "execution_count": 207,
   "id": "38b1b6a4-e149-43c4-b438-091d2d171d10",
   "metadata": {},
   "outputs": [
    {
     "name": "stdout",
     "output_type": "stream",
     "text": [
      "n = 1, a =99, b=10000\n"
     ]
    }
   ],
   "source": [
    "f(1)"
   ]
  },
  {
   "cell_type": "code",
   "execution_count": 209,
   "id": "1f122064-0868-4958-96b0-668ead10790a",
   "metadata": {},
   "outputs": [
    {
     "name": "stdout",
     "output_type": "stream",
     "text": [
      "n = 1, a =12, b=10000\n"
     ]
    }
   ],
   "source": [
    "f(1, 12)"
   ]
  },
  {
   "cell_type": "code",
   "execution_count": 211,
   "id": "4e5dfcab-8094-4309-bdee-32e50b6102e9",
   "metadata": {},
   "outputs": [
    {
     "name": "stdout",
     "output_type": "stream",
     "text": [
      "n = 1, a =99, b=10\n"
     ]
    }
   ],
   "source": [
    "f(1, b = 10)"
   ]
  },
  {
   "cell_type": "markdown",
   "id": "30597532-6441-4f27-85a1-b0d47a4c8e78",
   "metadata": {},
   "source": [
    "# Exercise... \n",
    "write the Fibonacci function with initial values, starting from 4 and 7..i.e, $g(0)=4$, $g(1) = 7$"
   ]
  },
  {
   "cell_type": "code",
   "execution_count": 232,
   "id": "1eab4472-bc5a-4589-88df-786d0a33ee65",
   "metadata": {},
   "outputs": [],
   "source": [
    " def fib(n, a = 4, b = 7):\n",
    "    for i in range(n):\n",
    "        a, b = b, a + b\n",
    "    return a"
   ]
  },
  {
   "cell_type": "code",
   "execution_count": 234,
   "id": "16423d60-5623-4876-a826-3df1969ae122",
   "metadata": {},
   "outputs": [
    {
     "data": {
      "text/plain": [
       "1364"
      ]
     },
     "execution_count": 234,
     "metadata": {},
     "output_type": "execute_result"
    }
   ],
   "source": [
    "fib(12)"
   ]
  },
  {
   "cell_type": "code",
   "execution_count": 236,
   "id": "e6455dfa-73b0-4729-9f82-6d9ab2fe2461",
   "metadata": {},
   "outputs": [
    {
     "data": {
      "text/plain": [
       "144"
      ]
     },
     "execution_count": 236,
     "metadata": {},
     "output_type": "execute_result"
    }
   ],
   "source": [
    "fib(12,0,1)"
   ]
  },
  {
   "cell_type": "code",
   "execution_count": 238,
   "id": "d0a694c9-25f0-4975-a78c-0e59ff89dc07",
   "metadata": {},
   "outputs": [],
   "source": [
    "def g(n):\n",
    "    if n == 0:\n",
    "        return 4\n",
    "    elif n == 1:\n",
    "        return 7\n",
    "    else:\n",
    "        return g(n-1) + g(n-2)"
   ]
  },
  {
   "cell_type": "code",
   "execution_count": 240,
   "id": "efba7937-fe40-4077-a41f-55280bde0c3c",
   "metadata": {},
   "outputs": [
    {
     "data": {
      "text/plain": [
       "1364"
      ]
     },
     "execution_count": 240,
     "metadata": {},
     "output_type": "execute_result"
    }
   ],
   "source": [
    "g(12)"
   ]
  },
  {
   "cell_type": "markdown",
   "id": "4636c3bd-0c3d-49b6-b6bc-eb5c7a4c85c5",
   "metadata": {},
   "source": [
    "## Functional programming, lambda functions"
   ]
  },
  {
   "cell_type": "code",
   "execution_count": 243,
   "id": "bb4209f4-040b-4301-ae6d-9d83e2d15808",
   "metadata": {},
   "outputs": [
    {
     "data": {
      "text/plain": [
       "144"
      ]
     },
     "execution_count": 243,
     "metadata": {},
     "output_type": "execute_result"
    }
   ],
   "source": [
    "(lambda x: x**2)(12)"
   ]
  },
  {
   "cell_type": "code",
   "execution_count": 245,
   "id": "2849290b-9ac2-43cd-b64c-2b5cbe27fe38",
   "metadata": {},
   "outputs": [
    {
     "data": {
      "text/plain": [
       "340"
      ]
     },
     "execution_count": 245,
     "metadata": {},
     "output_type": "execute_result"
    }
   ],
   "source": [
    "(lambda x, y : x**2 + y**2)(12,14)"
   ]
  },
  {
   "cell_type": "markdown",
   "id": "ccb3f87d-5d94-486a-ae79-4af48d999836",
   "metadata": {},
   "source": [
    "Write the function $f(x, y, z) = x^2 + y^2 +  z^2$ as pure function"
   ]
  },
  {
   "cell_type": "code",
   "execution_count": 263,
   "id": "5a1c7079-1208-4ba8-8607-09588da53972",
   "metadata": {},
   "outputs": [
    {
     "data": {
      "text/plain": [
       "14"
      ]
     },
     "execution_count": 263,
     "metadata": {},
     "output_type": "execute_result"
    }
   ],
   "source": [
    "(lambda x, y = 12, z =16 : x**2+y**2+z**2)(1, 2, 3)"
   ]
  },
  {
   "cell_type": "code",
   "execution_count": 261,
   "id": "d22be218-58ae-4dca-9e8f-46987bbf0078",
   "metadata": {},
   "outputs": [
    {
     "data": {
      "text/plain": [
       "401"
      ]
     },
     "execution_count": 261,
     "metadata": {},
     "output_type": "execute_result"
    }
   ],
   "source": [
    "(lambda x, y = 12, z =16 : x**2+y**2+z**2)(1)"
   ]
  },
  {
   "cell_type": "code",
   "execution_count": 265,
   "id": "f5ead2fa-21f1-45a6-9601-83f6ae05b5b2",
   "metadata": {},
   "outputs": [],
   "source": [
    "def f(x, y, z):\n",
    "    return x**2 + y**2 + z**2"
   ]
  },
  {
   "cell_type": "code",
   "execution_count": 267,
   "id": "cf71b00a-4bdb-4651-b3d0-22e33feb57fa",
   "metadata": {},
   "outputs": [
    {
     "data": {
      "text/plain": [
       "14"
      ]
     },
     "execution_count": 267,
     "metadata": {},
     "output_type": "execute_result"
    }
   ],
   "source": [
    "f(1, 2, 3 )"
   ]
  },
  {
   "cell_type": "code",
   "execution_count": 269,
   "id": "6f28b7be-01c5-4dac-8e76-159743fd9f0e",
   "metadata": {},
   "outputs": [
    {
     "data": {
      "text/plain": [
       "6"
      ]
     },
     "execution_count": 269,
     "metadata": {},
     "output_type": "execute_result"
    }
   ],
   "source": [
    "sum([1,2,3])"
   ]
  },
  {
   "cell_type": "code",
   "execution_count": 271,
   "id": "4faab51c-43cc-4787-b5f8-842befc7cdfb",
   "metadata": {},
   "outputs": [
    {
     "data": {
      "text/plain": [
       "6"
      ]
     },
     "execution_count": 271,
     "metadata": {},
     "output_type": "execute_result"
    }
   ],
   "source": [
    "(lambda z: sum(z))([1,2,3])"
   ]
  },
  {
   "cell_type": "code",
   "execution_count": 277,
   "id": "9882d695-046b-4a1b-874a-72acd4f173f9",
   "metadata": {},
   "outputs": [
    {
     "data": {
      "text/plain": [
       "15"
      ]
     },
     "execution_count": 277,
     "metadata": {},
     "output_type": "execute_result"
    }
   ],
   "source": [
    "(lambda z: sum(z))([1,2,3,4,5])"
   ]
  },
  {
   "cell_type": "code",
   "execution_count": 279,
   "id": "874238fa-796c-4b21-aa02-4efb5758766a",
   "metadata": {},
   "outputs": [
    {
     "data": {
      "text/plain": [
       "15"
      ]
     },
     "execution_count": 279,
     "metadata": {},
     "output_type": "execute_result"
    }
   ],
   "source": [
    "(lambda *z: sum(z))(1,2,3,4,5)"
   ]
  },
  {
   "cell_type": "code",
   "execution_count": 281,
   "id": "6b745d83-c93b-4b13-af1e-81ea9ce96dd9",
   "metadata": {},
   "outputs": [
    {
     "data": {
      "text/plain": [
       "28"
      ]
     },
     "execution_count": 281,
     "metadata": {},
     "output_type": "execute_result"
    }
   ],
   "source": [
    "(lambda *z: sum(z))(1,2,3,4,5,6,7)"
   ]
  },
  {
   "cell_type": "code",
   "execution_count": 285,
   "id": "fea90d73-ef20-4350-bcc2-c1892d1ae9b2",
   "metadata": {},
   "outputs": [
    {
     "data": {
      "text/plain": [
       "55"
      ]
     },
     "execution_count": 285,
     "metadata": {},
     "output_type": "execute_result"
    }
   ],
   "source": [
    "(lambda *z: sum(z))(*range(11))"
   ]
  },
  {
   "cell_type": "markdown",
   "id": "d96fd2a2-6931-47cb-a4ff-53d5a0499e28",
   "metadata": {},
   "source": [
    "Write a pure function to calculate $sin(x)$"
   ]
  },
  {
   "cell_type": "code",
   "execution_count": 288,
   "id": "47406c4c-7df7-4b5b-8b4c-75d00695376a",
   "metadata": {},
   "outputs": [],
   "source": [
    "def f(x):\n",
    "    return math.sin(x)"
   ]
  },
  {
   "cell_type": "code",
   "execution_count": 290,
   "id": "3e46037e-3ae1-48db-9794-685ae9d6cd5b",
   "metadata": {},
   "outputs": [
    {
     "data": {
      "text/plain": [
       "0.4201670368266409"
      ]
     },
     "execution_count": 290,
     "metadata": {},
     "output_type": "execute_result"
    }
   ],
   "source": [
    "(lambda x : math.sin(x))(13)"
   ]
  },
  {
   "cell_type": "markdown",
   "id": "303fe84d-c3b2-4f27-9e8c-916471f8b5a8",
   "metadata": {},
   "source": [
    "# Continuation of functional programming"
   ]
  },
  {
   "cell_type": "markdown",
   "id": "4e3a663c-ebe7-4685-a5c1-98677476d30d",
   "metadata": {},
   "source": [
    "$$\\{a_1, a_2, \\cdots, a_n \\}$$ and a function $f(x) = x^2$ We need to apply the function f to each of these $a_i$, In procedural programming, create a loop"
   ]
  },
  {
   "cell_type": "markdown",
   "id": "1a022696-4d30-4f64-9c97-865ac2ee9773",
   "metadata": {},
   "source": [
    "`for i in ${a_1, a_2, \\cdots, a_n \\}$`:"
   ]
  },
  {
   "cell_type": "markdown",
   "id": "53b1248d-09af-43b4-bceb-73016e7ac371",
   "metadata": {},
   "source": [
    "     `f(i)`"
   ]
  },
  {
   "cell_type": "markdown",
   "id": "c8543c01-d922-4e0a-a8d9-03243c4bba1e",
   "metadata": {},
   "source": [
    "In functional programming, we apply f to the whole list: as follows:\n",
    "$${f(a_1), f(a_2), f(a_3), \\dots, f(a_n)}$$"
   ]
  },
  {
   "cell_type": "code",
   "execution_count": null,
   "id": "e4f3d264-a076-421a-9aa1-f717647a0c42",
   "metadata": {},
   "outputs": [],
   "source": []
  }
 ],
 "metadata": {
  "kernelspec": {
   "display_name": "anaconda-panel-2023.05-py310",
   "language": "python",
   "name": "conda-env-anaconda-panel-2023.05-py310-py"
  },
  "language_info": {
   "codemirror_mode": {
    "name": "ipython",
    "version": 3
   },
   "file_extension": ".py",
   "mimetype": "text/x-python",
   "name": "python",
   "nbconvert_exporter": "python",
   "pygments_lexer": "ipython3",
   "version": "3.11.5"
  }
 },
 "nbformat": 4,
 "nbformat_minor": 5
}
